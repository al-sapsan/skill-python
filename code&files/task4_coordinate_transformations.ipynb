{
 "cells": [
  {
   "cell_type": "markdown",
   "metadata": {},
   "source": [
    "# Задача 4\n",
    "___\n",
    "Реализуйте преобразование координат точки на плоскости из декартовой системы координат в полярную. Точка в декартовой системе координат задаётся двумя вещественными числами x и y, которые означают величины проекций точки на оси. \n",
    "\n",
    "Координаты в полярной системе координат:\n",
    "\n",
    "полярный радиус — расстояние от начала системы координат;\n",
    "полярный угол — угол, отсчитываемый против часовой стрелки от луча, выходящего из начала системы координат.\n",
    "Преобразование из декартовых координат в полярные выглядит следующим образом:\n",
    "\n",
    "![Alternative text](https://api.selcdn.ru/v1/SEL_72086/prodLMS/files/share/coordinates_transform.png)\n",
    "\n",
    "Изображение: Михаил Свинцов\n",
    "При таком преобразовании полярный угол будет находиться в промежутке ‌[- $\\pi$, $\\pi$] ‌.\n",
    "\n",
    "### Входные данные\n",
    "```python \n",
    "Введите декартовы координаты в виде x;y: 10;-33\n",
    "```\n",
    "### Вывод программы\n",
    "```python\n",
    "Полярный радиус: radius=34.482\n",
    "Полярный угол: phi=-1.277\n",
    "```\n",
    "___\n",
    "# Решение"
   ]
  },
  {
   "cell_type": "code",
   "execution_count": 1,
   "metadata": {},
   "outputs": [
    {
     "name": "stdout",
     "output_type": "stream",
     "text": [
      "Полярный радиус: radius=34.482\n",
      "Полярный угол: phi=-1.277\n"
     ]
    }
   ],
   "source": [
    "import math\n",
    "\n",
    "def cartesian_to_polar(x, y):\n",
    "    radius = math.sqrt(x**2 + y**2)\n",
    "    phi = math.atan2(y, x)\n",
    "    return radius, phi\n",
    "\n",
    "def main():\n",
    "    input_coords = input(\"Введите декартовы координаты в виде x;y: \")\n",
    "    x, y = map(float, input_coords.split(';'))\n",
    "\n",
    "    radius, phi = cartesian_to_polar(x, y)\n",
    "\n",
    "    print(f\"Полярный радиус: radius={radius:.3f}\")\n",
    "    print(f\"Полярный угол: phi={phi:.3f}\")\n",
    "\n",
    "if __name__ == \"__main__\":\n",
    "    main()"
   ]
  }
 ],
 "metadata": {
  "kernelspec": {
   "display_name": "Python 3",
   "language": "python",
   "name": "python3"
  },
  "language_info": {
   "codemirror_mode": {
    "name": "ipython",
    "version": 3
   },
   "file_extension": ".py",
   "mimetype": "text/x-python",
   "name": "python",
   "nbconvert_exporter": "python",
   "pygments_lexer": "ipython3",
   "version": "3.11.10"
  }
 },
 "nbformat": 4,
 "nbformat_minor": 2
}
