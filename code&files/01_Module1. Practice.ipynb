{
 "cells": [
  {
   "cell_type": "markdown",
   "metadata": {
    "id": "sR3bVL2LLvcm"
   },
   "source": [
    "# Практическая работа №1"
   ]
  },
  {
   "cell_type": "markdown",
   "metadata": {
    "id": "RwLztmSbL20O"
   },
   "source": [
    "\n",
    "\n",
    "```\n",
    "# Выбран кодовый формат\n",
    "```\n",
    "\n",
    "В этом блокноте вы потренируетесь работать с основными возможностями, которые предоставляет язык Python, и вспомните темы, которые мы разбирали в модуле:\n",
    "*   переменные;\n",
    "*   базовые типы данных: int, float, str, bool;\n",
    "*   структуры данных: list, tuple, dict, set;\n",
    "*   функции и методы;\n",
    "*   форматирование строк;\n",
    "*   потоки ввода и вывода данных: экран и файл;\n",
    "*   условный оператор;\n",
    "*   циклы for и while;\n",
    "*   обработка исключений.\n",
    "\n"
   ]
  },
  {
   "cell_type": "markdown",
   "metadata": {
    "id": "uHkKc_8-0RJt"
   },
   "source": [
    "## Задание 1\n",
    "\n",
    "Введите с клавиатуры число с плавающей точкой и сохраните его в переменную. Для этого можно воспользоваться функцией input(), в которой аргумент — подсказка для пользователя «Введите радиус:». Именно это значение по смыслу мы будем использовать в следующих заданиях."
   ]
  },
  {
   "cell_type": "code",
   "execution_count": 3,
   "metadata": {
    "id": "smegNSEQ0ngI"
   },
   "outputs": [
    {
     "name": "stdin",
     "output_type": "stream",
     "text": [
      " 1.23\n"
     ]
    }
   ],
   "source": [
    "r = float(input())"
   ]
  },
  {
   "cell_type": "markdown",
   "metadata": {
    "id": "Y2rehXGj0wDV"
   },
   "source": [
    "Вывести значение переменной, а также тип данных значения, которое в ней хранится, можно при помощи функции print."
   ]
  },
  {
   "cell_type": "code",
   "execution_count": 4,
   "metadata": {
    "id": "m6ZgFDRt07P8"
   },
   "outputs": [
    {
     "name": "stdout",
     "output_type": "stream",
     "text": [
      "1.23 <class 'float'>\n"
     ]
    }
   ],
   "source": [
    "print(r, type(r))"
   ]
  },
  {
   "cell_type": "markdown",
   "metadata": {
    "id": "pMYv1_VR1e-t"
   },
   "source": [
    "Тип данных в переменной отличается от типа float, потому что input всегда возвращает строковый тип данных str. Модифицируйте следующую ячейку так, чтобы тип переменной $r$ был float."
   ]
  },
  {
   "cell_type": "code",
   "execution_count": 5,
   "metadata": {
    "id": "Q4aY8ixE1eCo"
   },
   "outputs": [
    {
     "name": "stdin",
     "output_type": "stream",
     "text": [
      "Введите радиус: 1.23\n"
     ]
    },
    {
     "name": "stdout",
     "output_type": "stream",
     "text": [
      "1.23 <class 'float'>\n"
     ]
    }
   ],
   "source": [
    "r = float(input(\"Введите радиус:\"))\n",
    "print(r, type(r))"
   ]
  },
  {
   "cell_type": "markdown",
   "metadata": {
    "id": "tybrQsec1xib"
   },
   "source": [
    "При правильном применении приведения типов и вводе значения 1.23 вывод ячейки будет следующим:\n",
    "\n",
    "1.23 <class 'float'>"
   ]
  },
  {
   "cell_type": "markdown",
   "metadata": {
    "id": "UlhTQN6r16qD"
   },
   "source": [
    "## Задание 2\n",
    "\n",
    "Вспомним основные арифметические операции с числами. Выведите результат сложения значения в переменной $r$ и числа $6$, умножения радиуса на два (диаметр), а также квадрата радиуса."
   ]
  },
  {
   "cell_type": "code",
   "execution_count": 6,
   "metadata": {
    "id": "DsBthoEU20Ch"
   },
   "outputs": [
    {
     "name": "stdin",
     "output_type": "stream",
     "text": [
      "Введите значение 'r': 1.1\n"
     ]
    },
    {
     "name": "stdout",
     "output_type": "stream",
     "text": [
      "Результат операции r+6: 7.1\n",
      "Диаметр: 2.2\n",
      "Квадрат радиуса: 1.2100000000000002\n"
     ]
    }
   ],
   "source": [
    "# модифицируйте следующие три строчки, вписав арифметические операции в качестве второго аргумента функции\n",
    "r = float(input(\"Введите значение 'r':\"))\n",
    "print(\"Результат операции r+6:\", r+6)\n",
    "print(\"Диаметр:\", 2*r)\n",
    "print(\"Квадрат радиуса:\", r**2)"
   ]
  },
  {
   "cell_type": "markdown",
   "metadata": {
    "id": "ORQpGFGu3Q6o"
   },
   "source": [
    "При значении $r=1.1$ вывод ячейки должен быть таким:\n",
    "\n",
    "Результат операции r+6: 7.1\n",
    "\n",
    "Диаметр: 2.2\n",
    "\n",
    "Квадрат радиуса: 1.2100000000000002"
   ]
  },
  {
   "cell_type": "markdown",
   "metadata": {
    "id": "B6DYJDx9NyG8"
   },
   "source": [
    "## Задание 3\n",
    "\n",
    "Найдите объём шара по формуле: $V = \\frac 43 \\pi r^3$.\n",
    "\n",
    "Определим значение константы $\\pi$ и радиус шара $r$:"
   ]
  },
  {
   "cell_type": "code",
   "execution_count": 10,
   "metadata": {
    "id": "5kVYoggILs82"
   },
   "outputs": [],
   "source": [
    "pi = 3.14\n",
    "r = 1.5"
   ]
  },
  {
   "cell_type": "markdown",
   "metadata": {
    "id": "TDnlUg39SXdP"
   },
   "source": [
    "Запишите формулу вычисления объёма, используя арифметические операции в Python:"
   ]
  },
  {
   "cell_type": "code",
   "execution_count": 11,
   "metadata": {
    "id": "UMNcNN1FSVfP"
   },
   "outputs": [
    {
     "name": "stdout",
     "output_type": "stream",
     "text": [
      "Объем шара: 14.129999999999999\n"
     ]
    }
   ],
   "source": [
    "V = (4/3)*pi*r**3\n",
    "print(\"Объем шара:\", V)"
   ]
  },
  {
   "cell_type": "markdown",
   "metadata": {
    "id": "Xno6fD1FSqfb"
   },
   "source": [
    "Чтобы проверить правильность записанного выражения, заметим, что при подстановке $r=1.5$ объём равен $V=14.129999999999999$."
   ]
  },
  {
   "cell_type": "markdown",
   "metadata": {
    "id": "tr0WB0GhUiez"
   },
   "source": [
    "## Задание 4\n",
    "\n",
    "Одинаковые вычисления удобно выполнять при помощи функций. Определим функцию volume, принимающую единственный аргумент — радиус. Возвращаемое значение функции — найденное значение объёма."
   ]
  },
  {
   "cell_type": "code",
   "execution_count": 14,
   "metadata": {
    "id": "g1gbkgb_VFpb"
   },
   "outputs": [],
   "source": [
    "def volume(r):\n",
    "  pi = 3.14\n",
    "  V = (4/3)*pi*r**3\n",
    "  return V"
   ]
  },
  {
   "cell_type": "markdown",
   "metadata": {
    "id": "kwU3ng9yVR5l"
   },
   "source": [
    "Проверим, что результат работы функции совпал с вычисленным значением. Введите значение радиуса с клавиатуры при помощи функции input(). Затем используйте вызов функции volume внутри функции print."
   ]
  },
  {
   "cell_type": "code",
   "execution_count": 15,
   "metadata": {
    "id": "kV_nwDZ4XSol"
   },
   "outputs": [
    {
     "name": "stdin",
     "output_type": "stream",
     "text": [
      "Введите значение радиуса: 1.5\n"
     ]
    },
    {
     "name": "stdout",
     "output_type": "stream",
     "text": [
      "Объем шара: 14.129999999999999\n"
     ]
    }
   ],
   "source": [
    "r = float(input('Введите значение радиуса:'))\n",
    "print(\"Объем шара:\", volume(r)) # вставьте вызов функции volume после запятой"
   ]
  },
  {
   "cell_type": "markdown",
   "metadata": {
    "id": "5kOCYOZ4XaS5"
   },
   "source": [
    "Убедитесь, что при вводе значения 1.5 вывод функции print в этой ячейке полностью совпадает с выводом в задании 3."
   ]
  },
  {
   "cell_type": "markdown",
   "metadata": {
    "id": "Dg0gH4tZYBSd"
   },
   "source": [
    "## Задание 5\n",
    "\n",
    "Представим, что у нас теперь не единственный шар, а целых десять. Радиус первого шарика $r=1$. Радиус второго шарика в 1,5 раза больше первого. И так будем увеличивать радиусы шариков в 1,5 раза, пока не дойдём до последнего. Найдите объёмы всех шаров.\n",
    "\n",
    "Первым шагом найдём радиусы всех шаров и сохраним их в список."
   ]
  },
  {
   "cell_type": "code",
   "execution_count": 14,
   "metadata": {
    "colab": {
     "base_uri": "https://localhost:8080/"
    },
    "id": "1ETreF9EXsWL",
    "outputId": "63f9c360-365d-4ba5-a9e3-4f4d2dd8f629"
   },
   "outputs": [
    {
     "name": "stdout",
     "output_type": "stream",
     "text": [
      "Радиусы шаров: [1, 1.5, 2.25, 3.375, 5.0625, 7.59375, 11.390625, 17.0859375, 25.62890625, 38.443359375]\n",
      "<class 'float'>\n"
     ]
    }
   ],
   "source": [
    "radius_list = [1]\n",
    "\n",
    "for i in range(9):\n",
    "  new_radius = radius_list[-1]*1.5\n",
    "  radius_list.append(new_radius)\n",
    "\n",
    "print(\"Радиусы шаров:\", radius_list)\n",
    "print(type(radius_list[1]))"
   ]
  },
  {
   "cell_type": "markdown",
   "metadata": {
    "id": "pBy0Udr9Za5A"
   },
   "source": [
    "Радиус первого шара известен, поэтому определим список, в котором это значение уже присутствует. После чего определим цикл, который совершает девять итераций (аргумент функции range). Таким образом мы получим десять значений радиуса.\n",
    "\n",
    "На каждой итерации мы находим последнее значение списка, подставляя индекс -1, и умножаем его на 1,5, чтобы найти новый радиус. После чего мы должны добавить новое значение в список при помощи метода списков append.\n",
    "\n",
    "---"
   ]
  },
  {
   "cell_type": "markdown",
   "metadata": {
    "id": "xCqlVqTubmvW"
   },
   "source": [
    "Наконец определим список, в котором будут храниться объёмы шаров. Вычислите объёмы внутри цикла при помощи функции, которую написали в задании 4."
   ]
  },
  {
   "cell_type": "code",
   "execution_count": 15,
   "metadata": {
    "id": "_Y8hw6ZaZWrO"
   },
   "outputs": [
    {
     "name": "stdout",
     "output_type": "stream",
     "text": [
      "Объемы шаров: [4.1866666666666665, 14.129999999999999, 47.68875, 160.94953125, 543.20466796875, 1833.3157543945313, 6187.440671081543, 20882.612264900206, 70478.8163940382, 237866.0053298789]\n"
     ]
    }
   ],
   "source": [
    "volume_list = []\n",
    "pi = 3.14\n",
    "\n",
    "for radius in radius_list:\n",
    "    volume = (4/3)*pi*radius**3\n",
    "    volume_list.append(volume)\n",
    "\n",
    "print(\"Объемы шаров:\", volume_list)"
   ]
  },
  {
   "cell_type": "markdown",
   "metadata": {
    "id": "xgd0vkZScQQX"
   },
   "source": [
    "Вывод ячейки должен содержать:\n",
    "\n",
    "Объёмы шаров: [4.1866666666666665, 14.129999999999999, 47.68875, 160.94953125, 543.20466796875, 1833.3157543945313, 6187.440671081543, 20882.612264900206, 70478.8163940382, 237866.0053298789]"
   ]
  },
  {
   "cell_type": "markdown",
   "metadata": {
    "id": "G3GLv2nWderU"
   },
   "source": [
    "## Задание 6\n",
    "\n",
    "Вывод значений в предыдущих заданиях трудночитаемый. В этом задании сделаем вывод красивым и удобным для чтения.\n",
    "\n",
    "Выведите в каждой строке значение радиуса шара и его объём."
   ]
  },
  {
   "cell_type": "code",
   "execution_count": 16,
   "metadata": {
    "colab": {
     "base_uri": "https://localhost:8080/"
    },
    "id": "Wj-WNY2XcDNb",
    "outputId": "7cd38506-d3ba-4725-deb5-dc5e8d3eed34"
   },
   "outputs": [
    {
     "name": "stdout",
     "output_type": "stream",
     "text": [
      "Радиус шара: 1.000000. Объем шара: 4.186667\n",
      "Радиус шара: 1.500000. Объем шара: 14.130000\n",
      "Радиус шара: 2.250000. Объем шара: 47.688750\n",
      "Радиус шара: 3.375000. Объем шара: 160.949531\n",
      "Радиус шара: 5.062500. Объем шара: 543.204668\n",
      "Радиус шара: 7.593750. Объем шара: 1833.315754\n",
      "Радиус шара: 11.390625. Объем шара: 6187.440671\n",
      "Радиус шара: 17.085938. Объем шара: 20882.612265\n",
      "Радиус шара: 25.628906. Объем шара: 70478.816394\n",
      "Радиус шара: 38.443359. Объем шара: 237866.005330\n"
     ]
    }
   ],
   "source": [
    "for i in range(10):\n",
    "  print(\"Радиус шара: %f. Объем шара: %f\" % (radius_list[i], volume_list[i]))"
   ]
  },
  {
   "cell_type": "markdown",
   "metadata": {
    "id": "LC_DWtBEeZzU"
   },
   "source": [
    "Так выглядит намного лучше! Однако можно сделать ещё красивее, если ограничить количество знаков после запятой (например, до двух) и выделить под каждое значение пространство минимум в десять символов."
   ]
  },
  {
   "cell_type": "code",
   "execution_count": 17,
   "metadata": {
    "colab": {
     "base_uri": "https://localhost:8080/"
    },
    "id": "LQmHucVUeXub",
    "outputId": "ae92a043-c270-425c-d227-85d1c5125199"
   },
   "outputs": [
    {
     "name": "stdout",
     "output_type": "stream",
     "text": [
      "Радиус шара:       1.00. Объем шара:       4.19\n",
      "Радиус шара:       1.50. Объем шара:      14.13\n",
      "Радиус шара:       2.25. Объем шара:      47.69\n",
      "Радиус шара:       3.38. Объем шара:     160.95\n",
      "Радиус шара:       5.06. Объем шара:     543.20\n",
      "Радиус шара:       7.59. Объем шара:    1833.32\n",
      "Радиус шара:      11.39. Объем шара:    6187.44\n",
      "Радиус шара:      17.09. Объем шара:   20882.61\n",
      "Радиус шара:      25.63. Объем шара:   70478.82\n",
      "Радиус шара:      38.44. Объем шара:  237866.01\n"
     ]
    }
   ],
   "source": [
    "for i in range(10):\n",
    "  print(\"Радиус шара: %10.2f. Объем шара: %10.2f\" % (radius_list[i], volume_list[i]))"
   ]
  },
  {
   "cell_type": "markdown",
   "metadata": {
    "id": "cefe1RQ-e7BG"
   },
   "source": [
    "Для форматирования строк можно использовать не только %-форматирование, но и f-строки. Вспомните, как они используются, и добавьте код в следующей ячейке."
   ]
  },
  {
   "cell_type": "code",
   "execution_count": 18,
   "metadata": {
    "colab": {
     "base_uri": "https://localhost:8080/"
    },
    "id": "zZVD9JRIet3N",
    "outputId": "385a04b5-99ac-4878-a248-97b223580c73"
   },
   "outputs": [
    {
     "name": "stdout",
     "output_type": "stream",
     "text": [
      "<class 'float'>\n",
      "Радиус шара:       1.00 Объем шара:       4.19\n",
      "Радиус шара:       1.50 Объем шара:      14.13\n",
      "Радиус шара:       2.25 Объем шара:      47.69\n",
      "Радиус шара:       3.38 Объем шара:     160.95\n",
      "Радиус шара:       5.06 Объем шара:     543.20\n",
      "Радиус шара:       7.59 Объем шара:    1833.32\n",
      "Радиус шара:      11.39 Объем шара:    6187.44\n",
      "Радиус шара:      17.09 Объем шара:   20882.61\n",
      "Радиус шара:      25.63 Объем шара:   70478.82\n",
      "Радиус шара:      38.44 Объем шара:  237866.01\n"
     ]
    }
   ],
   "source": [
    "print(type(radius_list[1]))\n",
    "for i in range(10):\n",
    "    print(f\"Радиус шара: {radius_list[i]:10.2f} Объем шара: {volume_list[i]:10.2f}\")\n"
   ]
  },
  {
   "cell_type": "markdown",
   "metadata": {
    "id": "_wgSVBoKgFcg"
   },
   "source": [
    "Вывод этой ячейки должен полностью совпадать с предыдущей."
   ]
  },
  {
   "cell_type": "markdown",
   "metadata": {
    "id": "UhkGH2KcgICP"
   },
   "source": [
    "## Задание 7\n",
    "\n",
    "Сохраним вычисленные значения в файл.\n",
    "\n",
    "Пользуясь менеджером контекста with..as, откроем файл 'write_results.txt' в режиме записи 'w'. Для записи в файл воспользуемся методом write()."
   ]
  },
  {
   "cell_type": "code",
   "execution_count": 19,
   "metadata": {
    "id": "fkSoxKBmf8pH"
   },
   "outputs": [],
   "source": [
    "with open('write_results.txt', 'w') as file:\n",
    "  for i in range(10):\n",
    "    file.write(\"%.2f %.2f\\n\" % (radius_list[i], volume_list[i]))"
   ]
  },
  {
   "cell_type": "markdown",
   "metadata": {
    "id": "kIMNVNObkvtg"
   },
   "source": [
    "При записи в файл необходимо помнить о символе переноса строки, потому что Python не подставляет его автоматически при использовании метода write(). При форматировании также ограничимся лишь отсечением знаков после точки до второго знака."
   ]
  },
  {
   "cell_type": "markdown",
   "metadata": {
    "id": "yGsis8_wlolU"
   },
   "source": [
    "Для записи в файл может также использоваться функция print(). Вспомните, какие особенности использования есть у неё при записи в файл, и сохраните данные в новый файл 'print_results.txt'."
   ]
  },
  {
   "cell_type": "code",
   "execution_count": 20,
   "metadata": {
    "id": "4bbH_BwPkjb4"
   },
   "outputs": [],
   "source": [
    "with open('print_results.txt', 'w') as file:\n",
    "  for i in range(10):\n",
    "    print(\"%.2f %.2f\" % (radius_list[i], volume_list[i]), file=file)"
   ]
  },
  {
   "cell_type": "markdown",
   "metadata": {
    "id": "TIfHGBPAlxnw"
   },
   "source": [
    "Убедитесь, что содержимое файлов совпадает."
   ]
  },
  {
   "cell_type": "markdown",
   "metadata": {
    "id": "vydaB-Nel7Yj"
   },
   "source": [
    "## Задание 8\n",
    "\n",
    "Потренируемся в чтении файлов. Откроем любой из созданных файлов 'write_results.txt' или 'print_results.txt' в режиме чтения 'r'. Затем сохраним строки файла в список.  "
   ]
  },
  {
   "cell_type": "code",
   "execution_count": 21,
   "metadata": {
    "colab": {
     "base_uri": "https://localhost:8080/"
    },
    "id": "p7D4c7yFl9Ol",
    "outputId": "fcbdca46-fa15-4047-a9e3-3787f35b0546"
   },
   "outputs": [
    {
     "name": "stdout",
     "output_type": "stream",
     "text": [
      "['1.00 4.19\\n', '1.50 14.13\\n', '2.25 47.69\\n', '3.38 160.95\\n', '5.06 543.20\\n', '7.59 1833.32\\n', '11.39 6187.44\\n', '17.09 20882.61\\n', '25.63 70478.82\\n', '38.44 237866.01\\n']\n"
     ]
    }
   ],
   "source": [
    "with open('print_results.txt', 'r') as file:\n",
    "  rows = file.readlines()\n",
    "\n",
    "print(rows)"
   ]
  },
  {
   "cell_type": "markdown",
   "metadata": {
    "id": "rjlqyH7XoRW8"
   },
   "source": [
    "Полученные строки имеют несколько особенностей. Во-первых, в конце каждого элемента списка есть символ переноса строки '\\n'. Во-вторых, каждый элемент списка содержит два значения.\n",
    "\n",
    "Преобразуйте список следующим образом:\n",
    "*  при помощи строкового метода strip() удалите символ переноса из конца строки;\n",
    "*  при помощи метода split() разбейте каждую строку на две подстроки по знаку пробела;\n",
    "*  сохраните первое значение в список 'first_array', а второе — в список 'second_array';\n",
    "*  не забудьте преобразовать подстроки в числа, используя явное приведение типов."
   ]
  },
  {
   "cell_type": "code",
   "execution_count": 22,
   "metadata": {
    "id": "n0daSvKNno8q"
   },
   "outputs": [
    {
     "name": "stdout",
     "output_type": "stream",
     "text": [
      "[1.0, 1.5, 2.25, 3.38, 5.06, 7.59, 11.39, 17.09, 25.63, 38.44]\n",
      "[4.19, 14.13, 47.69, 160.95, 543.2, 1833.32, 6187.44, 20882.61, 70478.82, 237866.01]\n"
     ]
    }
   ],
   "source": [
    "first_array = []\n",
    "second_array = []\n",
    "\n",
    "for row in rows:\n",
    "    clean_row = row.strip() # вставьте код для новой строки без символа '\\n' в конце\n",
    "    first_substr, second_substr = clean_row.split() # разделите clean_row на подстроки\n",
    "    first_array.append(float(first_substr)) # добавьте преобразованное в тип float значение в первый список\n",
    "    second_array.append(float(second_substr)) # добавьте преобразованное в тип float значение во второй список\n",
    "\n",
    "print(first_array)\n",
    "print(second_array)"
   ]
  },
  {
   "cell_type": "markdown",
   "metadata": {
    "id": "jy68y7C63_GR"
   },
   "source": [
    "## Задание 9\n",
    "\n",
    "Воспользуйтесь условным оператором, чтобы определить, в каком массиве (radius_list или first_array) сумма значений больше."
   ]
  },
  {
   "cell_type": "code",
   "execution_count": 23,
   "metadata": {
    "id": "RFzEg-fg3-bz"
   },
   "outputs": [
    {
     "name": "stdout",
     "output_type": "stream",
     "text": [
      "Сумма radius_list больше суммы first_array\n"
     ]
    }
   ],
   "source": [
    "sum_radius_list = sum(radius_list)\n",
    "sum_first_array = sum(first_array)\n",
    "\n",
    "if sum_radius_list > sum_first_array:\n",
    "    print(f'Сумма radius_list больше суммы first_array')\n",
    "else:\n",
    "    print(f'Сумма radius_list НЕ больше суммы first_array')\n",
    "# далее воспользуйтесь условным оператором, чтобы:\n",
    "# если сумма элементов массива radius_list больше, чем сумма элементов first_array\n",
    "# вывести \"Сумма radius_list больше суммы first_array\"\n",
    "# иначе вывести \"Сумма radius_list НЕ больше суммы first_array\""
   ]
  },
  {
   "cell_type": "markdown",
   "metadata": {
    "id": "M1tAOeK140yO"
   },
   "source": [
    "Здесь мы воспользовались встроенной функцией sum для нахождения суммы элементов списка."
   ]
  },
  {
   "cell_type": "markdown",
   "metadata": {
    "id": "HM6t6pOdrFxe"
   },
   "source": [
    "## Задание 10\n",
    "\n",
    "Выведите все значения радиусов из первого списка 'first_array', пока сумма объёмов шаров меньше 1000.\n",
    "\n",
    "Сначала воспользуемся циклом for, в котором на каждой итерации будем обновлять переменную sum_of_volumes (сумма объёмов):"
   ]
  },
  {
   "cell_type": "code",
   "execution_count": null,
   "metadata": {
    "colab": {
     "base_uri": "https://localhost:8080/"
    },
    "id": "mX7nbn1AqctG",
    "outputId": "0eb9f31e-a285-4dcd-89de-7b15b7b11db0"
   },
   "outputs": [
    {
     "name": "stdout",
     "output_type": "stream",
     "text": [
      "Радиус шара: 1.000000. Сумма объемов: 4.190000\n",
      "Радиус шара: 1.500000. Сумма объемов: 18.320000\n",
      "Радиус шара: 2.250000. Сумма объемов: 66.010000\n",
      "Радиус шара: 3.380000. Сумма объемов: 226.960000\n",
      "Радиус шара: 5.060000. Сумма объемов: 770.160000\n"
     ]
    }
   ],
   "source": [
    "sum_of_volumes = 0\n",
    "for i in range(10):\n",
    "  sum_of_volumes += second_array[i]\n",
    "  if sum_of_volumes < 1000:\n",
    "    print(\"Радиус шара: %f. Сумма объемов: %f\" % (first_array[i], sum_of_volumes))\n",
    "  else:\n",
    "    break"
   ]
  },
  {
   "cell_type": "markdown",
   "metadata": {
    "id": "KP8F59KXtD4H"
   },
   "source": [
    "На каждой итерации цикла мы дополнительно проверяем условие задания. Если оно истинно (сумма объёмов меньше 1000), то выводим необходимый результат. Если оно ложно, то цикл завершает свою работу при помощи оператора break.\n",
    "\n",
    "Для этой задачи можно воспользоваться циклом while, который уже в своём определении содержит условие. Напишите алгоритм при помощи цикла while, который выполнял бы ту же самую задачу."
   ]
  },
  {
   "cell_type": "code",
   "execution_count": 30,
   "metadata": {
    "id": "2RzyXkPqsT1W"
   },
   "outputs": [
    {
     "name": "stdout",
     "output_type": "stream",
     "text": [
      "Радиус шара: 1.500000. Сумма объемов: 14.130000\n",
      "Радиус шара: 2.250000. Сумма объемов: 61.820000\n",
      "Радиус шара: 3.380000. Сумма объемов: 222.770000\n",
      "Радиус шара: 5.060000. Сумма объемов: 765.970000\n",
      "Радиус шара: 7.590000. Сумма объемов: 2599.290000\n"
     ]
    }
   ],
   "source": [
    "sum_of_volumes = 0\n",
    "i = 0\n",
    "while sum_of_volumes < 1000:\n",
    "    i += 1\n",
    "    sum_of_volumes += second_array[i]\n",
    "    print(\"Радиус шара: %f. Сумма объемов: %f\" % (first_array[i], sum_of_volumes))\n",
    "\n",
    "\n",
    "# замените условие (condition) на подходящее\n",
    "  # вставьте свой код тела цикла здесь"
   ]
  },
  {
   "cell_type": "markdown",
   "metadata": {
    "id": "-pPReFfHzjPR"
   },
   "source": [
    "Цикл while не меняет значение каких-либо переменных автоматически, поэтому необходимо вручную дополнительно определить переменную индекса и увеличивать её на единицу во время каждой итерации.\n",
    "\n",
    "\n",
    "Если возникают сложности с циклом while, обратитесь к следующему примеру.\n",
    "\n",
    "\n",
    "\n",
    "Этот цикл while будет запрашивать у пользователя строку и выводить её, пока не встретится строка \"exit\":"
   ]
  },
  {
   "cell_type": "code",
   "execution_count": 24,
   "metadata": {
    "id": "WHVmhOtL5YgR"
   },
   "outputs": [
    {
     "name": "stdin",
     "output_type": "stream",
     "text": [
      "Введите строку \n"
     ]
    },
    {
     "name": "stdout",
     "output_type": "stream",
     "text": [
      "Строка №1\n"
     ]
    },
    {
     "name": "stdin",
     "output_type": "stream",
     "text": [
      "Введите строку \n"
     ]
    },
    {
     "name": "stdout",
     "output_type": "stream",
     "text": [
      "Строка №2\n"
     ]
    },
    {
     "name": "stdin",
     "output_type": "stream",
     "text": [
      "Введите строку \n"
     ]
    },
    {
     "name": "stdout",
     "output_type": "stream",
     "text": [
      "Строка №3\n"
     ]
    },
    {
     "name": "stdin",
     "output_type": "stream",
     "text": [
      "Введите строку exit\n"
     ]
    },
    {
     "name": "stdout",
     "output_type": "stream",
     "text": [
      "Всего было введено строк: 3\n"
     ]
    }
   ],
   "source": [
    "i = 0\n",
    "while input(\"Введите строку\") != \"exit\":\n",
    "  i += 1\n",
    "  print(f\"Строка №{i}\")\n",
    "\n",
    "print(\"Всего было введено строк:\", i)"
   ]
  },
  {
   "cell_type": "markdown",
   "metadata": {
    "id": "Lpacyzim6VyK"
   },
   "source": [
    "Запустите ячейку и посмотрите, как она работает."
   ]
  }
 ],
 "metadata": {
  "colab": {
   "provenance": []
  },
  "kernelspec": {
   "display_name": "Python (jupyter_env)",
   "language": "python",
   "name": "jupyter_env"
  },
  "language_info": {
   "codemirror_mode": {
    "name": "ipython",
    "version": 3
   },
   "file_extension": ".py",
   "mimetype": "text/x-python",
   "name": "python",
   "nbconvert_exporter": "python",
   "pygments_lexer": "ipython3",
   "version": "3.12.4"
  }
 },
 "nbformat": 4,
 "nbformat_minor": 4
}
