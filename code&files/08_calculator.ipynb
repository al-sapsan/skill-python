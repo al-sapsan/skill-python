{
 "cells": [
  {
   "cell_type": "markdown",
   "id": "e4b79008-c7a5-4099-adf7-b48bc11c3e01",
   "metadata": {},
   "source": [
    "# Задача 8. Калькулятор\n",
    "_ _ _"
   ]
  },
  {
   "cell_type": "markdown",
   "id": "003a2b8d-fd19-4323-8b24-0d3ac6004970",
   "metadata": {},
   "source": [
    "## Вариант 1: Использование функции `eval()`\n",
    "\n",
    "### Описание алгоритма:\n",
    "В этом варианте для вычисления выражений используется встроенная функция `eval()`. Эта функция принимает строку, содержащую выражение, и вычисляет его. Программа читает файл с выражениями, обрабатывает каждую строку, используя `eval()`, и записывает результаты в файл. Ошибки обрабатываются с помощью блока `try…except`.\n",
    "\n",
    "### Код:"
   ]
  },
  {
   "cell_type": "code",
   "execution_count": 1,
   "id": "02c8eb6c-ca82-4f7d-8dbf-211677ac37de",
   "metadata": {},
   "outputs": [
    {
     "ename": "FileNotFoundError",
     "evalue": "[Errno 2] No such file or directory: 'exprs.txt'",
     "output_type": "error",
     "traceback": [
      "\u001b[0;31m---------------------------------------------------------------------------\u001b[0m",
      "\u001b[0;31mFileNotFoundError\u001b[0m                         Traceback (most recent call last)",
      "Cell \u001b[0;32mIn[1], line 32\u001b[0m\n\u001b[1;32m     29\u001b[0m         f_errors\u001b[38;5;241m.\u001b[39mwrite(\u001b[38;5;124mf\u001b[39m\u001b[38;5;124m\"\u001b[39m\u001b[38;5;124mError Lines: \u001b[39m\u001b[38;5;132;01m{\u001b[39;00merror_lines\u001b[38;5;132;01m}\u001b[39;00m\u001b[38;5;130;01m\\n\u001b[39;00m\u001b[38;5;124m\"\u001b[39m)\n\u001b[1;32m     31\u001b[0m \u001b[38;5;66;03m# Вызов функций\u001b[39;00m\n\u001b[0;32m---> 32\u001b[0m \u001b[43mprocess_file\u001b[49m\u001b[43m(\u001b[49m\u001b[38;5;124;43m'\u001b[39;49m\u001b[38;5;124;43mexprs.txt\u001b[39;49m\u001b[38;5;124;43m'\u001b[39;49m\u001b[43m,\u001b[49m\u001b[43m \u001b[49m\u001b[38;5;124;43m'\u001b[39;49m\u001b[38;5;124;43mresults.txt\u001b[39;49m\u001b[38;5;124;43m'\u001b[39;49m\u001b[43m,\u001b[49m\u001b[43m \u001b[49m\u001b[38;5;124;43m'\u001b[39;49m\u001b[38;5;124;43merrors.txt\u001b[39;49m\u001b[38;5;124;43m'\u001b[39;49m\u001b[43m)\u001b[49m\n",
      "Cell \u001b[0;32mIn[1], line 9\u001b[0m, in \u001b[0;36mprocess_file\u001b[0;34m(input_file, results_file, errors_file)\u001b[0m\n\u001b[1;32m      8\u001b[0m \u001b[38;5;28;01mdef\u001b[39;00m \u001b[38;5;21mprocess_file\u001b[39m(input_file, results_file, errors_file):\n\u001b[0;32m----> 9\u001b[0m     \u001b[38;5;28;01mwith\u001b[39;00m \u001b[38;5;28;43mopen\u001b[39;49m\u001b[43m(\u001b[49m\u001b[43minput_file\u001b[49m\u001b[43m,\u001b[49m\u001b[43m \u001b[49m\u001b[38;5;124;43m'\u001b[39;49m\u001b[38;5;124;43mr\u001b[39;49m\u001b[38;5;124;43m'\u001b[39;49m\u001b[43m)\u001b[49m \u001b[38;5;28;01mas\u001b[39;00m f_input, \\\n\u001b[1;32m     10\u001b[0m          \u001b[38;5;28mopen\u001b[39m(results_file, \u001b[38;5;124m'\u001b[39m\u001b[38;5;124mw\u001b[39m\u001b[38;5;124m'\u001b[39m) \u001b[38;5;28;01mas\u001b[39;00m f_results, \\\n\u001b[1;32m     11\u001b[0m          \u001b[38;5;28mopen\u001b[39m(errors_file, \u001b[38;5;124m'\u001b[39m\u001b[38;5;124mw\u001b[39m\u001b[38;5;124m'\u001b[39m) \u001b[38;5;28;01mas\u001b[39;00m f_errors:\n\u001b[1;32m     13\u001b[0m         line_num \u001b[38;5;241m=\u001b[39m \u001b[38;5;241m0\u001b[39m\n\u001b[1;32m     14\u001b[0m         error_count \u001b[38;5;241m=\u001b[39m \u001b[38;5;241m0\u001b[39m\n",
      "File \u001b[0;32m~/Library/jupyterlab-desktop/jlab_server/lib/python3.12/site-packages/IPython/core/interactiveshell.py:324\u001b[0m, in \u001b[0;36m_modified_open\u001b[0;34m(file, *args, **kwargs)\u001b[0m\n\u001b[1;32m    317\u001b[0m \u001b[38;5;28;01mif\u001b[39;00m file \u001b[38;5;129;01min\u001b[39;00m {\u001b[38;5;241m0\u001b[39m, \u001b[38;5;241m1\u001b[39m, \u001b[38;5;241m2\u001b[39m}:\n\u001b[1;32m    318\u001b[0m     \u001b[38;5;28;01mraise\u001b[39;00m \u001b[38;5;167;01mValueError\u001b[39;00m(\n\u001b[1;32m    319\u001b[0m         \u001b[38;5;124mf\u001b[39m\u001b[38;5;124m\"\u001b[39m\u001b[38;5;124mIPython won\u001b[39m\u001b[38;5;124m'\u001b[39m\u001b[38;5;124mt let you open fd=\u001b[39m\u001b[38;5;132;01m{\u001b[39;00mfile\u001b[38;5;132;01m}\u001b[39;00m\u001b[38;5;124m by default \u001b[39m\u001b[38;5;124m\"\u001b[39m\n\u001b[1;32m    320\u001b[0m         \u001b[38;5;124m\"\u001b[39m\u001b[38;5;124mas it is likely to crash IPython. If you know what you are doing, \u001b[39m\u001b[38;5;124m\"\u001b[39m\n\u001b[1;32m    321\u001b[0m         \u001b[38;5;124m\"\u001b[39m\u001b[38;5;124myou can use builtins\u001b[39m\u001b[38;5;124m'\u001b[39m\u001b[38;5;124m open.\u001b[39m\u001b[38;5;124m\"\u001b[39m\n\u001b[1;32m    322\u001b[0m     )\n\u001b[0;32m--> 324\u001b[0m \u001b[38;5;28;01mreturn\u001b[39;00m \u001b[43mio_open\u001b[49m\u001b[43m(\u001b[49m\u001b[43mfile\u001b[49m\u001b[43m,\u001b[49m\u001b[43m \u001b[49m\u001b[38;5;241;43m*\u001b[39;49m\u001b[43margs\u001b[49m\u001b[43m,\u001b[49m\u001b[43m \u001b[49m\u001b[38;5;241;43m*\u001b[39;49m\u001b[38;5;241;43m*\u001b[39;49m\u001b[43mkwargs\u001b[49m\u001b[43m)\u001b[49m\n",
      "\u001b[0;31mFileNotFoundError\u001b[0m: [Errno 2] No such file or directory: 'exprs.txt'"
     ]
    }
   ],
   "source": [
    "def calculate_expression(expression):\n",
    "    try:\n",
    "        result = eval(expression)\n",
    "        return result, None\n",
    "    except Exception as e:\n",
    "        return None, str(e)\n",
    "\n",
    "def process_file(input_file, results_file, errors_file):\n",
    "    with open(input_file, 'r') as f_input, \\\n",
    "         open(results_file, 'w') as f_results, \\\n",
    "         open(errors_file, 'w') as f_errors:\n",
    "        \n",
    "        line_num = 0\n",
    "        error_count = 0\n",
    "        error_lines = []\n",
    "\n",
    "        for line in f_input:\n",
    "            line_num += 1\n",
    "            expression = line.strip()\n",
    "            result, error = calculate_expression(expression)\n",
    "            if error:\n",
    "                f_errors.write(f\"{line_num} {error}\\n\")\n",
    "                error_count += 1\n",
    "                error_lines.append(line_num)\n",
    "            else:\n",
    "                f_results.write(f\"{line_num} {result}\\n\")\n",
    "\n",
    "        f_errors.write(f\"\\nTotal Errors: {error_count}\\n\")\n",
    "        f_errors.write(f\"Error Lines: {error_lines}\\n\")\n",
    "\n",
    "# Вызов функций\n",
    "process_file('exprs.txt', 'results.txt', 'errors.txt')\n"
   ]
  },
  {
   "cell_type": "markdown",
   "id": "e7779ae2-77fc-4631-9142-07b8b2a5c9bf",
   "metadata": {},
   "source": [
    "### Скорость:\n",
    "- **Время работы:** \\(O(n)\\), где \\( n \\) — количество строк в файле.\n",
    "- **Преимущества:** Простота и эффективность для небольших программ. `eval()` позволяет быстро и легко вычислять выражения.\n",
    "- **Недостатки:** Использование `eval()` может быть небезопасным, если выражения берутся из ненадежного источника, так как `eval()` может исполнить любой код."
   ]
  },
  {
   "cell_type": "markdown",
   "id": "eef94e69-19ca-4dd6-970d-e2b2bb810e1b",
   "metadata": {},
   "source": [
    "_ _ _\n",
    "## Вариант 2: Использование регулярных выражений и парсинга\n",
    "\n",
    "### Описание алгоритма:\n",
    "Этот вариант предполагает использование регулярных выражений (`re`) для парсинга строки и извлечения операндов и операторов. После парсинга выполняется соответствующая операция.\n",
    "\n",
    "### Код:"
   ]
  },
  {
   "cell_type": "code",
   "execution_count": null,
   "id": "0f9155bf-c707-4e1f-a082-8eee656e7acb",
   "metadata": {},
   "outputs": [],
   "source": [
    "import re\n",
    "\n",
    "def calculate_expression(expression):\n",
    "    try:\n",
    "        expression = re.sub(r'\\s+', '', expression)\n",
    "        match = re.match(r'^(-?\\d+(\\.\\d+)?)([+\\-*/])(-?\\d+(\\.\\d+)?)$', expression)\n",
    "        if not match:\n",
    "            raise ValueError(\"Invalid expression format\")\n",
    "        \n",
    "        num1, operator, num2 = float(match.group(1)), match.group(3), float(match.group(4))\n",
    "        \n",
    "        if operator == '+':\n",
    "            return num1 + num2, None\n",
    "        elif operator == '-':\n",
    "            return num1 - num2, None\n",
    "        elif operator == '*':\n",
    "            return num1 * num2, None\n",
    "        elif operator == '/':\n",
    "            return num1 / num2, None\n",
    "        else:\n",
    "            raise ValueError(\"Unsupported operation\")\n",
    "    except Exception as e:\n",
    "        return None, str(e)\n",
    "\n",
    "def process_file(input_file, results_file, errors_file):\n",
    "    with open(input_file, 'r') as f_input, \\\n",
    "         open(results_file, 'w') as f_results, \\\n",
    "         open(errors_file, 'w') as f_errors:\n",
    "        \n",
    "        line_num = 0\n",
    "        error_count = 0\n",
    "        error_lines = []\n",
    "\n",
    "        for line in f_input:\n",
    "            line_num += 1\n",
    "            expression = line.strip()\n",
    "            result, error = calculate_expression(expression)\n",
    "            if error:\n",
    "                f_errors.write(f\"{line_num} {error}\\n\")\n",
    "                error_count += 1\n",
    "                error_lines.append(line_num)\n",
    "            else:\n",
    "                f_results.write(f\"{line_num} {result}\\n\")\n",
    "\n",
    "        f_errors.write(f\"\\nTotal Errors: {error_count}\\n\")\n",
    "        f_errors.write(f\"Error Lines: {error_lines}\\n\")\n",
    "\n",
    "# Вызов функций\n",
    "process_file('exprs.txt', 'results.txt', 'errors.txt')"
   ]
  },
  {
   "cell_type": "markdown",
   "id": "baad85ab-71d7-40bb-9594-b0854b604938",
   "metadata": {},
   "source": [
    "### Скорость:\n",
    "- **Время работы:** \\(O(n)\\), где \\( n \\) — количество строк в файле, плюс затраты на регулярные выражения.\n",
    "- **Преимущества:** Этот метод более безопасен, чем `eval()`, так как выполняет только арифметические операции.\n",
    "- **Недостатки:** Менее гибок и сложен в реализации."
   ]
  },
  {
   "cell_type": "markdown",
   "id": "3b7b46ab-096b-449e-b5b4-9c2bbad217c4",
   "metadata": {},
   "source": [
    "_ _ _\n",
    "## Вариант 3: Использование библиотеки `sympy`\n",
    "\n",
    "### Описание алгоритма:\n",
    "`sympy` — мощная библиотека для работы с символической математикой в Python. В этом варианте используется метод `parse_expr()` для парсинга выражений и их вычисления.\n",
    "\n",
    "### Код:"
   ]
  },
  {
   "cell_type": "code",
   "execution_count": null,
   "id": "b294cba9-18e6-47bf-ba29-0a4ce50e0dfb",
   "metadata": {},
   "outputs": [],
   "source": [
    "\n",
    "from sympy import sympify\n",
    "from sympy.core.sympify import SympifyError\n",
    "\n",
    "def calculate_expression(expression):\n",
    "    try:\n",
    "        expression = expression.replace('×', '*').replace('÷', '/')\n",
    "        result = sympify(expression)\n",
    "        return result, None\n",
    "    except SympifyError as e:\n",
    "        return None, f\"SympifyError: {e}\"\n",
    "    except Exception as e:\n",
    "        return None, str(e)\n",
    "\n",
    "def process_file(input_file, results_file, errors_file):\n",
    "    with open(input_file, 'r') as f_input, \\\n",
    "         open(results_file, 'w') as f_results, \\\n",
    "         open(errors_file, 'w') as f_errors:\n",
    "        \n",
    "        line_num = 0\n",
    "        error_count = 0\n",
    "        error_lines = []\n",
    "\n",
    "        for line in f_input:\n",
    "            line_num += 1\n",
    "            expression = line.strip()\n",
    "            result, error = calculate_expression(expression)\n",
    "            if error:\n",
    "                f_errors.write(f\"{line_num} {error}\\n\")\n",
    "                error_count += 1\n",
    "                error_lines.append(line_num)\n",
    "            else:\n",
    "                f_results.write(f\"{line_num} {result}\\n\")\n",
    "\n",
    "        f_errors.write(f\"\\nTotal Errors: {error_count}\\n\")\n",
    "        f_errors.write(f\"Error Lines: {error_lines}\\n\")\n",
    "\n",
    "# Вызов функций\n",
    "process_file('exprs.txt', 'results.txt', 'errors.txt')"
   ]
  },
  {
   "cell_type": "markdown",
   "id": "2ef632b7-9826-4532-8b2d-9c973692e89f",
   "metadata": {},
   "source": [
    "### Скорость:\n",
    "- **Время работы:** \\(O(n)\\), где \\( n \\) — количество строк в файле.\n",
    "- **Преимущества:** Высокая точность и возможность работы с символическими выражениями. Безопаснее и мощнее `eval()`.\n",
    "- **Недостатки:** Более медленный и тяжелый по сравнению с другими методами, особенно для простых арифметических операций.\n"
   ]
  },
  {
   "cell_type": "markdown",
   "id": "034cea0a-6864-443b-b83d-1d8ebf09b3b3",
   "metadata": {},
   "source": [
    "_ _ _\n",
    "## Заключение:\n",
    "\n",
    "1. **Вариант с `eval()`**:\n",
    "   - **Плюсы:** Простота и скорость.\n",
    "   - **Минусы:** Может быть небезопасным.\n",
    "\n",
    "2. **Вариант с регулярными выражениями**:\n",
    "   - **Плюсы:** Безопасность, контроль над парсингом.\n",
    "   - **Минусы:** Сложность реализации.\n",
    "\n",
    "3. **Вариант с `sympy`**:\n",
    "   - **Плюсы:** Высокая точность и безопасность.\n",
    "   - **Минусы:** Меньшая производительность для простых выражений.\n",
    "\n",
    "Выбор метода зависит от конкретных требований задачи. Если важна простота и быстрота разработки — лучше использовать `eval()`. Если приоритетом является безопасность и контроль — предпочтительнее регулярные выражения или `sympy`."
   ]
  },
  {
   "cell_type": "code",
   "execution_count": null,
   "id": "98ba6a5e-5f17-4e80-b177-a9c779a6973a",
   "metadata": {},
   "outputs": [],
   "source": []
  }
 ],
 "metadata": {
  "kernelspec": {
   "display_name": "Python 3 (ipykernel)",
   "language": "python",
   "name": "python3"
  },
  "language_info": {
   "codemirror_mode": {
    "name": "ipython",
    "version": 3
   },
   "file_extension": ".py",
   "mimetype": "text/x-python",
   "name": "python",
   "nbconvert_exporter": "python",
   "pygments_lexer": "ipython3",
   "version": "3.12.3"
  }
 },
 "nbformat": 4,
 "nbformat_minor": 5
}
