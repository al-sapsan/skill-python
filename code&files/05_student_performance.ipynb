{
 "cells": [
  {
   "cell_type": "markdown",
   "id": "81c69749-22f7-4da8-be45-4ac1ef79ffab",
   "metadata": {},
   "source": [
    "# Задача 5. Статистика успеваемости"
   ]
  },
  {
   "cell_type": "markdown",
   "id": "a686391f-adf3-4232-83f8-2c8da26b4f16",
   "metadata": {},
   "source": [
    "## Решение 1: Использование списков и словарей\n",
    "\n",
    "### Алгоритм:\n",
    "1. **Сбор данных**:\n",
    "   - Считываем список предметов, пока не введено слово \"стоп\".\n",
    "   - Считываем список студентов, пока не введено слово \"стоп\".\n",
    "   - Для каждого студента и каждого предмета запрашиваем оценку.\n",
    "\n",
    "2. **Расчет статистики**:\n",
    "   - Находим студента с лучшей средней успеваемостью.\n",
    "   - Вычисляем средний балл по каждому предмету.\n",
    "\n",
    "3. **Вывод результатов**:\n",
    "   - Выводим студента с наивысшей успеваемостью и его средний балл.\n",
    "   - Выводим средний балл по каждому предмету.\n"
   ]
  },
  {
   "cell_type": "code",
   "execution_count": 2,
   "id": "5f136a8f-b6b4-4ebc-a039-ae6ab8917e7d",
   "metadata": {},
   "outputs": [
    {
     "name": "stdin",
     "output_type": "stream",
     "text": [
      "Введите предмет:  Математика\n",
      "Введите предмет:  Информатика\n",
      "Введите предмет:  стоп\n",
      "Введите фамилию и имя студента через пробел:  Иван Иванов\n",
      "Введите фамилию и имя студента через пробел:  Петр Петров\n",
      "Введите фамилию и имя студента через пробел:  Сидор Сидоров\n",
      "Введите фамилию и имя студента через пробел:  стоп\n"
     ]
    },
    {
     "name": "stdout",
     "output_type": "stream",
     "text": [
      "Студент Иванов Иван\n"
     ]
    },
    {
     "name": "stdin",
     "output_type": "stream",
     "text": [
      "Математика:  4\n",
      "Информатика:  5\n"
     ]
    },
    {
     "name": "stdout",
     "output_type": "stream",
     "text": [
      "Студент Петров Петр\n"
     ]
    },
    {
     "name": "stdin",
     "output_type": "stream",
     "text": [
      "Математика:  4\n",
      "Информатика:  4\n"
     ]
    },
    {
     "name": "stdout",
     "output_type": "stream",
     "text": [
      "Студент Сидоров Сидор\n"
     ]
    },
    {
     "name": "stdin",
     "output_type": "stream",
     "text": [
      "Математика:  5\n",
      "Информатика:  5\n"
     ]
    },
    {
     "name": "stdout",
     "output_type": "stream",
     "text": [
      "\n",
      "Статистика:\n",
      "Студент с лучшей успеваемостью: Сидор Сидоров: 5.00\n",
      "\n",
      "Средний балл по предмету:\n",
      "Математика: 4.33\n",
      "Информатика: 4.67\n"
     ]
    }
   ],
   "source": [
    "def read_subjects():\n",
    "    subjects = []\n",
    "    while True:\n",
    "        subject = input(\"Введите предмет: \").strip().lower()\n",
    "        if subject == \"стоп\":\n",
    "            break\n",
    "        subjects.append(subject)\n",
    "    return subjects\n",
    "\n",
    "def read_students():\n",
    "    students = []\n",
    "    while True:\n",
    "        student = input(\"Введите фамилию и имя студента через пробел: \").strip()\n",
    "        if student.lower() == \"стоп\":\n",
    "            break\n",
    "        students.append(tuple(student.split()))\n",
    "    return students\n",
    "\n",
    "def read_scores(students, subjects):\n",
    "    scores = []\n",
    "    for student in students:\n",
    "        student_scores = {}\n",
    "        print(f\"Студент {student[1]} {student[0]}\")\n",
    "        for subject in subjects:\n",
    "            score = int(input(f\"{subject.capitalize()}: \"))\n",
    "            student_scores[subject] = score\n",
    "        scores.append(student_scores)\n",
    "    return scores\n",
    "\n",
    "def statistics(students, scores, subjects):\n",
    "    best_student = None\n",
    "    best_avg_score = 0\n",
    "    subject_averages = {subject: 0 for subject in subjects}\n",
    "\n",
    "    for i, student_scores in enumerate(scores):\n",
    "        avg_score = sum(student_scores.values()) / len(subjects)\n",
    "        if avg_score > best_avg_score:\n",
    "            best_avg_score = avg_score\n",
    "            best_student = students[i]\n",
    "        \n",
    "        for subject, score in student_scores.items():\n",
    "            subject_averages[subject] += score\n",
    "\n",
    "    subject_averages = {subject: round(total / len(students), 2) for subject, total in subject_averages.items()}\n",
    "    \n",
    "    return best_student, best_avg_score, subject_averages\n",
    "\n",
    "def main():\n",
    "    subjects = read_subjects()\n",
    "    students = read_students()\n",
    "    scores = read_scores(students, subjects)\n",
    "    \n",
    "    best_student, best_avg_score, subject_averages = statistics(students, scores, subjects)\n",
    "    \n",
    "    print(\"\\nСтатистика:\")\n",
    "    print(f\"Студент с лучшей успеваемостью: {best_student[0]} {best_student[1]}: {best_avg_score:.2f}\")\n",
    "    \n",
    "    print(\"\\nСредний балл по предмету:\")\n",
    "    for subject, avg in subject_averages.items():\n",
    "        print(f\"{subject.capitalize()}: {avg:.2f}\")\n",
    "\n",
    "if __name__ == \"__main__\":\n",
    "    main()"
   ]
  },
  {
   "cell_type": "markdown",
   "id": "ebbc41b4-57ff-41b3-ba10-fc7486f78a58",
   "metadata": {},
   "source": [
    "#### Оценка:\n",
    "- **Скорость выполнения**: O(n*m), где n — количество студентов, m — количество предметов. Для каждого студента оцениваются все предметы, а затем вычисляется средний балл.\n",
    "- **Используемые операторы**: Ввод данных с клавиатуры, работа с циклами, использование словарей для хранения оценок и расчета среднего значения.\n",
    "\n",
    "#### Плюсы и минусы:\n",
    "- **Плюсы**: Простота реализации, хороший баланс между читаемостью и эффективностью.\n",
    "- **Минусы**: Может быть неудобно масштабировать на большие объемы данных.\n",
    "\n",
    "---"
   ]
  },
  {
   "cell_type": "markdown",
   "id": "8ceb0c92-57d0-434a-ad15-36a3a5dd4d20",
   "metadata": {},
   "source": [
    "## Решение 2: Использование вложенных словарей\n",
    "\n",
    "### Алгоритм:\n",
    "1. **Сбор данных**:\n",
    "   - Считываем список предметов.\n",
    "   - Считываем список студентов.\n",
    "   - Сохраняем оценки студентов в виде вложенных словарей.\n",
    "\n",
    "2. **Расчет статистики**:\n",
    "   - Вложенные словари позволяют легко вычислять средние оценки для студентов и предметов.\n",
    "\n",
    "3. **Вывод результатов**:\n",
    "   - Выводим результаты в удобочитаемом формате.\n"
   ]
  },
  {
   "cell_type": "code",
   "execution_count": 6,
   "id": "efa24410-6bde-4db4-b83b-cbb9deefc617",
   "metadata": {},
   "outputs": [
    {
     "name": "stdin",
     "output_type": "stream",
     "text": [
      "Введите предмет:  Математика\n",
      "Введите предмет:  Информатика\n",
      "Введите предмет:  стоп\n",
      "Введите фамилию и имя студента через пробел:  Иван Иванов\n",
      "Введите фамилию и имя студента через пробел:  Петр Петров\n",
      "Введите фамилию и имя студента через пробел:  Сидор Сидоров\n",
      "Введите фамилию и имя студента через пробел:  стоп\n"
     ]
    },
    {
     "name": "stdout",
     "output_type": "stream",
     "text": [
      "Студент Иван Иванов\n"
     ]
    },
    {
     "name": "stdin",
     "output_type": "stream",
     "text": [
      "Математика:  3\n",
      "Информатика:  4\n"
     ]
    },
    {
     "name": "stdout",
     "output_type": "stream",
     "text": [
      "Студент Петр Петров\n"
     ]
    },
    {
     "name": "stdin",
     "output_type": "stream",
     "text": [
      "Математика:  5\n",
      "Информатика:  4\n"
     ]
    },
    {
     "name": "stdout",
     "output_type": "stream",
     "text": [
      "Студент Сидор Сидоров\n"
     ]
    },
    {
     "name": "stdin",
     "output_type": "stream",
     "text": [
      "Математика:  3\n",
      "Информатика:  4\n"
     ]
    },
    {
     "name": "stdout",
     "output_type": "stream",
     "text": [
      "\n",
      "Статистика:\n",
      "Студент с лучшей успеваемостью: Петр Петров: 4.50\n",
      "\n",
      "Средний балл по предмету:\n",
      "Математика: 3.67\n",
      "Информатика: 4.00\n"
     ]
    }
   ],
   "source": [
    "def read_subjects():\n",
    "    subjects = []\n",
    "    while True:\n",
    "        subject = input(\"Введите предмет: \").strip().lower()\n",
    "        if subject == \"стоп\":\n",
    "            break\n",
    "        subjects.append(subject)\n",
    "    return subjects\n",
    "\n",
    "def read_students():\n",
    "    students = {}\n",
    "    while True:\n",
    "        student = input(\"Введите фамилию и имя студента через пробел: \").strip()\n",
    "        if student.lower() == \"стоп\":\n",
    "            break\n",
    "        students[student] = {}\n",
    "    return students\n",
    "\n",
    "def read_scores(students, subjects):\n",
    "    for student in students:\n",
    "        print(f\"Студент {student}\")\n",
    "        for subject in subjects:\n",
    "            score = int(input(f\"{subject.capitalize()}: \"))\n",
    "            students[student][subject] = score\n",
    "    return students\n",
    "\n",
    "def statistics(students, subjects):\n",
    "    best_student = None\n",
    "    best_avg_score = 0\n",
    "    subject_totals = {subject: 0 for subject in subjects}\n",
    "\n",
    "    for student, scores in students.items():\n",
    "        avg_score = sum(scores.values()) / len(subjects)\n",
    "        if avg_score > best_avg_score:\n",
    "            best_avg_score = avg_score\n",
    "            best_student = student\n",
    "        \n",
    "        for subject, score in scores.items():\n",
    "            subject_totals[subject] += score\n",
    "\n",
    "    subject_averages = {subject: round(total / len(students), 2) for subject, total in subject_totals.items()}\n",
    "    \n",
    "    return best_student, best_avg_score, subject_averages\n",
    "\n",
    "def main():\n",
    "    subjects = read_subjects()\n",
    "    students = read_students()\n",
    "    students = read_scores(students, subjects)\n",
    "    \n",
    "    best_student, best_avg_score, subject_averages = statistics(students, subjects)\n",
    "    \n",
    "    print(\"\\nСтатистика:\")\n",
    "    print(f\"Студент с лучшей успеваемостью: {best_student}: {best_avg_score:.2f}\")\n",
    "    \n",
    "    print(\"\\nСредний балл по предмету:\")\n",
    "    for subject, avg in subject_averages.items():\n",
    "        print(f\"{subject.capitalize()}: {avg:.2f}\")\n",
    "\n",
    "if __name__ == \"__main__\":\n",
    "    main()"
   ]
  },
  {
   "cell_type": "markdown",
   "id": "1bd05315-b2d2-4a77-a0da-7cc22dd7d9e4",
   "metadata": {},
   "source": [
    "### Оценка:\n",
    "- **Скорость выполнения**: O(n*m), аналогична предыдущему решению.\n",
    "- **Используемые операторы**: Ввод данных, вложенные словари для хранения оценок.\n",
    "- **Плюсы**: Вложенные словари обеспечивают удобную структуру для обработки данных.\n",
    "- **Минусы**: Увеличенная сложность кода из-за вложенной структуры.\n",
    "\n",
    "---"
   ]
  },
  {
   "cell_type": "markdown",
   "id": "495ab2d3-ad96-4329-8fde-371569c1b2df",
   "metadata": {},
   "source": [
    "## Решение 3: Использование классов и объектов\n",
    "\n",
    "### Алгоритм:\n",
    "1. **Создание классов**:\n",
    "   - Создаем классы для студентов и предметов.\n",
    "   - Классы инкапсулируют данные и методы для расчета статистики.\n",
    "\n",
    "2. **Сбор данных**:\n",
    "   - Ввод предметов и студентов через методы классов.\n",
    "\n",
    "3. **Расчет статистики**:\n",
    "   - Методами классов легко вычислять средние оценки и находить лучшего студента.\n",
    "\n",
    "4. **Вывод результатов**:\n",
    "   - Вывод через методы классов.\n",
    "\n",
    "### Код:"
   ]
  },
  {
   "cell_type": "code",
   "execution_count": null,
   "id": "55c20765-af8d-486b-b027-597cebf50e9d",
   "metadata": {},
   "outputs": [],
   "source": [
    "class Student:\n",
    "    def __init__(self, name):\n",
    "        self.name = name\n",
    "        self.scores = {}\n",
    "    \n",
    "    def add_score(self, subject, score):\n",
    "        self.scores[subject] = score\n",
    "    \n",
    "    def average_score(self):\n",
    "        return sum(self.scores.values()) / len(self.scores)\n",
    "\n",
    "class Subject:\n",
    "    def __init__(self, name):\n",
    "        self.name = name\n",
    "        self.total_score = 0\n",
    "        self.num_students = 0\n",
    "    \n",
    "    def add_score(self, score):\n",
    "        self.total_score += score\n",
    "        self.num_students += 1\n",
    "    \n",
    "    def average_score(self):\n",
    "        return self.total_score / self.num_students\n",
    "\n",
    "def read_subjects():\n",
    "    subjects = {}\n",
    "    while True:\n",
    "        subject = input(\"Введите предмет: \").strip().lower()\n",
    "        if subject == \"стоп\":\n",
    "            break\n",
    "        subjects[subject] = Subject(subject)\n",
    "    return subjects\n",
    "\n",
    "def read_students():\n",
    "    students = []\n",
    "    while True:\n",
    "        student_name = input(\"Введите фамилию и имя студента через пробел: \").strip()\n",
    "        if student_name.lower() == \"стоп\":\n",
    "            break\n",
    "        students.append(Student(student_name))\n",
    "    return students\n",
    "\n",
    "def read_scores(students, subjects):\n",
    "    for student in students:\n",
    "        print(f\"Студент {student.name}\")\n",
    "        for subject_name, subject in subjects.items():\n",
    "            score = int(input(f\"{subject_name.capitalize()}: \"))\n",
    "            student.add_score(subject_name, score)\n",
    "            subject.add_score(score)\n",
    "    return students, subjects\n",
    "\n",
    "def find_best_student(students):\n",
    "    best_student = max(students, key=lambda student: student.average_score())\n",
    "    return best_student\n",
    "\n",
    "def main():\n",
    "    subjects = read_subjects()\n",
    "    students = read_students()\n",
    "    students, subjects = read_scores(students, subjects)\n",
    "    \n",
    "    best_student = find_best_student(students)\n",
    "    \n",
    "    print(\"\\nСтатистика:\")\n",
    "    print(f\"Студент с лучшей успеваемостью: {best_student.name}: {best_student.average_score():.2f}\")\n",
    "    \n",
    "    print(\"\\nСредний балл по предмету:\")\n",
    "    for subject_name, subject in subjects.items():\n",
    "        print(f\"{subject_name.capitalize()}: {subject.average_score():.2f}\")\n",
    "\n",
    "if __name__ == \"__main__\":\n",
    "    main()"
   ]
  },
  {
   "cell_type": "markdown",
   "id": "10a26e7b-8432-4764-adac-2489cd418f8b",
   "metadata": {},
   "source": [
    "### Оценка:\n",
    "- **Скорость выполнения**: O\n",
    "\n",
    "(n*m), как и в предыдущих решениях.\n",
    "- **Используемые операторы**: Введение классов и методов для более удобного управления данными.\n",
    "- **Плюсы**: Четкая структура данных, улучшенная читаемость и поддерживаемость.\n",
    "- **Минусы**: Более сложный и длинный код, потенциальная избыточность для небольших проектов.\n",
    "\n",
    "---"
   ]
  },
  {
   "cell_type": "markdown",
   "id": "a9593474-ab19-4914-8144-f9f94098c120",
   "metadata": {},
   "source": [
    "## Итоговое решение:\n",
    "Лучшим является **Решение 3** с использованием классов, несмотря на его большую сложность. Это решение предоставляет четкую структуру данных, что облегчает расширение и поддержку кода в будущем. Классы инкапсулируют логику работы с данными, что делает код более организованным и понятным. Такое решение удобно для крупных проектов, требующих гибкости и расширяемости."
   ]
  },
  {
   "cell_type": "code",
   "execution_count": null,
   "id": "cfb5c12d-5286-4142-bfa6-b926f7841c40",
   "metadata": {},
   "outputs": [],
   "source": []
  }
 ],
 "metadata": {
  "kernelspec": {
   "display_name": "Python 3 (ipykernel)",
   "language": "python",
   "name": "python3"
  },
  "language_info": {
   "codemirror_mode": {
    "name": "ipython",
    "version": 3
   },
   "file_extension": ".py",
   "mimetype": "text/x-python",
   "name": "python",
   "nbconvert_exporter": "python",
   "pygments_lexer": "ipython3",
   "version": "3.11.7"
  }
 },
 "nbformat": 4,
 "nbformat_minor": 5
}
