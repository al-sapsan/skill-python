{
 "cells": [
  {
   "cell_type": "markdown",
   "id": "2876bb5c-a0fe-414b-a150-8ec1831d17c1",
   "metadata": {},
   "source": [
    "# Задача 2. Числа Фибоначчи\n",
    "_ _ _"
   ]
  },
  {
   "cell_type": "code",
   "execution_count": 2,
   "id": "eb723cb5-6f2f-41db-9c94-e0178e4ef834",
   "metadata": {},
   "outputs": [],
   "source": [
    "def get_fibonacci_sequence(qty):\n",
    "    if qty <= 0:\n",
    "        return []\n",
    "    elif qty == 1:\n",
    "        return [0]\n",
    "\n",
    "    fib_numbers = [0, 1]\n",
    "    current, next_value = 0, 1\n",
    "\n",
    "    while len(fib_numbers) < qty:\n",
    "        current, next_value = next_value, current + next_value\n",
    "        fib_numbers.append(next_value)\n",
    "    \n",
    "    return fib_numbers"
   ]
  },
  {
   "cell_type": "code",
   "execution_count": 4,
   "id": "299f9250-f25b-4990-9496-98531b9289b4",
   "metadata": {},
   "outputs": [
    {
     "name": "stdout",
     "output_type": "stream",
     "text": [
      "[0, 1, 1, 2, 3, 5, 8, 13, 21, 34]\n"
     ]
    }
   ],
   "source": [
    "# Пример использования функции\n",
    "fib_numbers = get_fibonacci_sequence(10)\n",
    "assert len(fib_numbers) == 10\n",
    "print(fib_numbers)"
   ]
  },
  {
   "cell_type": "markdown",
   "id": "97583bfa-e5db-498f-aeb9-23d47379ba9a",
   "metadata": {},
   "source": [
    "_ _ _\n",
    "# Задача 3. FizzBuzz \n",
    "_ _ _"
   ]
  },
  {
   "cell_type": "code",
   "execution_count": 3,
   "id": "46f60b2a-2a0c-4d46-b227-ed724bb5273c",
   "metadata": {},
   "outputs": [
    {
     "name": "stdin",
     "output_type": "stream",
     "text": [
      "Введите максимальное число:  17\n"
     ]
    },
    {
     "name": "stdout",
     "output_type": "stream",
     "text": [
      "1\n",
      "2\n",
      "fizz\n",
      "4\n",
      "buzz\n",
      "fizz\n",
      "7\n",
      "8\n",
      "fizz\n",
      "buzz\n",
      "11\n",
      "fizz\n",
      "13\n",
      "14\n",
      "fizz buzz\n",
      "16\n",
      "17\n"
     ]
    }
   ],
   "source": [
    "def fizz_buzz(max_number):\n",
    "    fizz_buzz_list = []\n",
    "    for i in range(1, max_number + 1):\n",
    "        if i % 3 == 0 and i % 5 == 0:\n",
    "            fizz_buzz_list.append(\"fizz buzz\")\n",
    "        elif i % 3 == 0:\n",
    "            fizz_buzz_list.append(\"fizz\")\n",
    "        elif i % 5 == 0:\n",
    "            fizz_buzz_list.append(\"buzz\")\n",
    "        else:\n",
    "            fizz_buzz_list.append(str(i))\n",
    "    return fizz_buzz_list\n",
    "\n",
    "def main():\n",
    "    try:\n",
    "        max_number = int(input(\"Введите максимальное число: \"))\n",
    "        if max_number < 1:\n",
    "            print(\"Максимальное число должно быть не меньше 1\")\n",
    "            return\n",
    "        \n",
    "        result = fizz_buzz(max_number)\n",
    "        print(\"\\n\".join(result))\n",
    "    except ValueError:\n",
    "        print(\"Пожалуйста, введите целое число\")\n",
    "\n",
    "if __name__ == \"__main__\":\n",
    "    main()\n"
   ]
  },
  {
   "cell_type": "markdown",
   "id": "87d5e93d-d42b-4932-addf-947d0d0da71a",
   "metadata": {},
   "source": [
    "_ _ _\n",
    "# Задача 4. Решение треугольника\n",
    "_ _ _"
   ]
  },
  {
   "cell_type": "code",
   "execution_count": 4,
   "id": "fb9c1e6e-b221-41c6-a3d0-8434fe59d98b",
   "metadata": {},
   "outputs": [],
   "source": [
    "import math\n",
    "\n",
    "# Проверка существования треугольника с использованием неравенства треугольника\n",
    "def is_triangle_valid(side1, side2, side3):\n",
    "    return side1 + side2 > side3 and side1 + side3 > side2 and side2 + side3 > side1\n",
    "\n",
    "# Вычисление угла напротив стороны 'opposite_side' с использованием теоремы косинусов\n",
    "def calculate_angle(opposite_side, adjacent_side1, adjacent_side2):\n",
    "    # В формуле используются косинусы для вычисления угла в радианах\n",
    "    cos_value = (adjacent_side1**2 + adjacent_side2**2 - opposite_side**2) / (2 * adjacent_side1 * adjacent_side2)\n",
    "    return math.degrees(math.acos(cos_value))\n",
    "\n",
    "# Основная функция для вычисления углов, периметра и площади треугольника\n",
    "def calculate_triangle_properties(side1, side2, side3):\n",
    "    # Проверка, могут ли данные стороны образовать треугольник\n",
    "    if not is_triangle_valid(side1, side2, side3):\n",
    "        return \"Стороны не образуют треугольник\"\n",
    "    \n",
    "    # Вычисление всех углов треугольника\n",
    "    angle1 = calculate_angle(side1, side2, side3)\n",
    "    angle2 = calculate_angle(side2, side1, side3)\n",
    "    angle3 = calculate_angle(side3, side1, side2)\n",
    "    \n",
    "    # Вычисление периметра треугольника\n",
    "    perimeter = side1 + side2 + side3\n",
    "    \n",
    "    # Вычисление площади треугольника с использованием формулы Герона\n",
    "    semi_perimeter = perimeter / 2\n",
    "    area = math.sqrt(semi_perimeter * (semi_perimeter - side1) * (semi_perimeter - side2) * (semi_perimeter - side3))\n",
    "    \n",
    "    # Возвращаем результат в виде словаря с округленными значениями\n",
    "    return {\n",
    "        \"Угол 1 (напротив стороны 1)\": round(angle1, 2),\n",
    "        \"Угол 2 (напротив стороны 2)\": round(angle2, 2),\n",
    "        \"Угол 3 (напротив стороны 3)\": round(angle3, 2),\n",
    "        \"Периметр треугольника\": round(perimeter, 3),\n",
    "        \"Площадь треугольника\": round(area, 3)\n",
    "    }"
   ]
  },
  {
   "cell_type": "code",
   "execution_count": 5,
   "id": "738746e9-5f05-45fa-9d38-9de4dc657a9e",
   "metadata": {},
   "outputs": [
    {
     "name": "stdout",
     "output_type": "stream",
     "text": [
      "{'Угол 1 (напротив стороны 1)': 36.87, 'Угол 2 (напротив стороны 2)': 53.13, 'Угол 3 (напротив стороны 3)': 90.0, 'Периметр треугольника': 12, 'Площадь треугольника': 6.0}\n"
     ]
    }
   ],
   "source": [
    "# Пример использования функции\n",
    "side1 = 3\n",
    "side2 = 4\n",
    "side3 = 5\n",
    "\n",
    "triangle_properties = calculate_triangle_properties(side1, side2, side3)\n",
    "print(triangle_properties)"
   ]
  },
  {
   "cell_type": "markdown",
   "id": "e0539a0d-17c8-4cb9-bcf6-1ef22c3ef32a",
   "metadata": {},
   "source": [
    "_ _ _\n",
    "# Задача 5. Статистика успеваемости\n",
    "_ _ _"
   ]
  },
  {
   "cell_type": "code",
   "execution_count": null,
   "id": "7e4f2a01-09af-4c30-b7ff-56540ed7a451",
   "metadata": {},
   "outputs": [],
   "source": [
    "def read_subjects():\n",
    "    subjects = []\n",
    "    while True:\n",
    "        subject = input(\"Введите предмет: \").strip().lower()\n",
    "        if subject == \"стоп\":\n",
    "            break\n",
    "        subjects.append(subject)\n",
    "    return subjects\n",
    "\n",
    "def read_students():\n",
    "    students = []\n",
    "    while True:\n",
    "        student = input(\"Введите фамилию и имя студента через пробел: \").strip()\n",
    "        if student.lower() == \"стоп\":\n",
    "            break\n",
    "        students.append(tuple(student.split()))\n",
    "    return students\n",
    "\n",
    "def read_scores(students, subjects):\n",
    "    scores = []\n",
    "    for student in students:\n",
    "        student_scores = {}\n",
    "        print(f\"Студент {student[1]} {student[0]}\")\n",
    "        for subject in subjects:\n",
    "            score = int(input(f\"{subject.capitalize()}: \"))\n",
    "            student_scores[subject] = score\n",
    "        scores.append(student_scores)\n",
    "    return scores\n",
    "\n",
    "def statistics(students, scores, subjects):\n",
    "    best_student = None\n",
    "    best_avg_score = 0\n",
    "    subject_averages = {subject: 0 for subject in subjects}\n",
    "\n",
    "    for i, student_scores in enumerate(scores):\n",
    "        avg_score = sum(student_scores.values()) / len(subjects)\n",
    "        if avg_score > best_avg_score:\n",
    "            best_avg_score = avg_score\n",
    "            best_student = students[i]\n",
    "        \n",
    "        for subject, score in student_scores.items():\n",
    "            subject_averages[subject] += score\n",
    "\n",
    "    subject_averages = {subject: round(total / len(students), 2) for subject, total in subject_averages.items()}\n",
    "    \n",
    "    return best_student, best_avg_score, subject_averages\n",
    "\n",
    "def main():\n",
    "    subjects = read_subjects()\n",
    "    students = read_students()\n",
    "    scores = read_scores(students, subjects)\n",
    "    \n",
    "    best_student, best_avg_score, subject_averages = statistics(students, scores, subjects)\n",
    "    \n",
    "    print(\"\\nСтатистика:\")\n",
    "    print(f\"Студент с лучшей успеваемостью: {best_student[0]} {best_student[1]}: {best_avg_score:.2f}\")\n",
    "    \n",
    "    print(\"\\nСредний балл по предмету:\")\n",
    "    for subject, avg in subject_averages.items():\n",
    "        print(f\"{subject.capitalize()}: {avg:.2f}\")\n",
    "\n",
    "if __name__ == \"__main__\":\n",
    "    main()"
   ]
  },
  {
   "cell_type": "markdown",
   "id": "f1e1bd5d-e7d6-4cfe-9954-e9a11eff7226",
   "metadata": {},
   "source": [
    "_ _ _\n",
    "# Задача 6. Простые числа\n",
    "_ _ _"
   ]
  },
  {
   "cell_type": "code",
   "execution_count": 16,
   "id": "578b8387-a50e-47cc-aacd-bceeeb660e09",
   "metadata": {},
   "outputs": [
    {
     "name": "stdin",
     "output_type": "stream",
     "text": [
      "Введите максимальное число:  1000\n"
     ]
    },
    {
     "name": "stdout",
     "output_type": "stream",
     "text": [
      "Простые числа:\n",
      "2, 3, 5, 7, 11, 13, 17, 19, 23, 29,\n",
      "31, 37, 41, 43, 47, 53, 59, 61, 67, 71,\n",
      "73, 79, 83, 89, 97, 101, 103, 107, 109, 113,\n",
      "127, 131, 137, 139, 149, 151, 157, 163, 167, 173,\n",
      "179, 181, 191, 193, 197, 199, 211, 223, 227, 229,\n",
      "233, 239, 241, 251, 257, 263, 269, 271, 277, 281,\n",
      "283, 293, 307, 311, 313, 317, 331, 337, 347, 349,\n",
      "353, 359, 367, 373, 379, 383, 389, 397, 401, 409,\n",
      "419, 421, 431, 433, 439, 443, 449, 457, 461, 463,\n",
      "467, 479, 487, 491, 499, 503, 509, 521, 523, 541,\n",
      "547, 557, 563, 569, 571, 577, 587, 593, 599, 601,\n",
      "607, 613, 617, 619, 631, 641, 643, 647, 653, 659,\n",
      "661, 673, 677, 683, 691, 701, 709, 719, 727, 733,\n",
      "739, 743, 751, 757, 761, 769, 773, 787, 797, 809,\n",
      "811, 821, 823, 827, 829, 839, 853, 857, 859, 863,\n",
      "877, 881, 883, 887, 907, 911, 919, 929, 937, 941,\n",
      "947, 953, 967, 971, 977, 983, 991, 997,\n"
     ]
    }
   ],
   "source": [
    "def optimized_sieve(max_num):\n",
    "    if max_num < 2:\n",
    "        return []\n",
    "    \n",
    "    sieve = [True] * ((max_num // 2) + 1)\n",
    "    sieve[0] = False  # 1 не является простым числом\n",
    "    \n",
    "    for i in range(1, int(max_num**0.5) // 2 + 1):\n",
    "        if sieve[i]:\n",
    "            for j in range(2 * i * (i + 1), len(sieve), 2 * i + 1):\n",
    "                sieve[j] = False\n",
    "    \n",
    "    primes = [2] + [2 * i + 1 for i in range(1, len(sieve)) if sieve[i]]\n",
    "    return primes\n",
    "\n",
    "# Вывод чисел по десяткам\n",
    "def print_primes(primes):\n",
    "    for i in range(0, len(primes), 10):\n",
    "        print(\", \".join(map(str, primes[i:i+10])) + \",\")\n",
    "\n",
    "max_num = int(input(\"Введите максимальное число: \"))\n",
    "print(\"Простые числа:\")\n",
    "primes = optimized_sieve(max_num)\n",
    "print_primes(primes)"
   ]
  },
  {
   "cell_type": "markdown",
   "id": "3f452883-1ebf-48fa-a027-5bd0af0c78c2",
   "metadata": {},
   "source": [
    "_ _ _\n",
    "# Задача 7. «Война и мир»\n",
    "_ _ _"
   ]
  },
  {
   "cell_type": "code",
   "execution_count": 6,
   "id": "f62ee660-3d7d-4664-8b1a-9fca2ba5a85f",
   "metadata": {},
   "outputs": [
    {
     "name": "stdout",
     "output_type": "stream",
     "text": [
      "Статистика:\n",
      "  : 0.15\n",
      "о : 0.08\n",
      "а : 0.06\n",
      "е : 0.06\n",
      "и : 0.05\n",
      "\n",
      "Предложения со словом «Андрей»:\n",
      "Новое лицо это был молодой князь Андрей Болконский, муж маленькой княгини.\n",
      "– Как вам не грех лишать нас вашей прелестной жены?\n",
      "\n",
      "– Andr&#233;, – сказала его жена, обращаясь к мужу тем же кокетливым тоном, каким она обращалась и к посторонним, – какую историю нам рассказал виконт о m-lle Жорж и Бонапарте!\n",
      "\n",
      "Князь Андрей зажмурился и отвернулся.\n",
      "Пьер, со времени входа князя Андрея в гостиную не спускавший с него радостных, дружелюбных глаз, подошел к нему и взял его за руку.\n",
      "Князь Андрей, не оглядываясь, сморщил лицо в гримасу, выражавшую досаду на того, кто трогает его за руку, но, увидав улыбающееся лицо Пьера, улыбнулся неожиданно-доброй и приятной улыбкой.\n",
      "– Можно?\n",
      "\n",
      "– Нет, нельзя, – сказал князь Андрей, смеясь, пожатием руки давая знать Пьеру, что этого не нужно спрашивать.\n",
      "– Очень хороша, – сказал князь Андрей.\n",
      "]\n",
      "\n",
      "Князь Андрей усмехнулся, прямо глядя в лицо Анны Павловны.\n",
      "– Это сомнительно, – сказал князь Андрей.\n",
      "] – сказал князь Андрей с усмешкой.\n",
      "Князь Андрей с улыбкой посматривал то на Пьера, то на виконта, то на хозяйку.\n"
     ]
    }
   ],
   "source": [
    "import chardet\n",
    "\n",
    "def calculate_char_frequency(text):\n",
    "    char_count = {}\n",
    "    total_chars = 0\n",
    "\n",
    "    for char in text:\n",
    "        if char in char_count:\n",
    "            char_count[char] += 1\n",
    "        else:\n",
    "            char_count[char] = 1\n",
    "        total_chars += 1\n",
    "\n",
    "    char_frequency = {char: count / total_chars for char, count in char_count.items()}\n",
    "    return char_frequency\n",
    "\n",
    "def find_sentences_with_name(text, name, limit=10):\n",
    "    sentences = text.split('.')\n",
    "    result = []\n",
    "    \n",
    "    for sentence in sentences:\n",
    "        if any(name_form in sentence for name_form in [\"Андрей\", \"Андрея\", \"Андрею\", \"Андреем\", \"Андрее\"]):\n",
    "            result.append(sentence.strip() + '.')\n",
    "        if len(result) == limit:\n",
    "            break\n",
    "            \n",
    "    return result\n",
    "\n",
    "def main():\n",
    "    with open('war_and_peace.txt', 'rb') as file:\n",
    "        result = chardet.detect(file.read())\n",
    "        encoding = result['encoding']\n",
    "    \n",
    "    with open('war_and_peace.txt', 'r', encoding=encoding) as file:\n",
    "        text = file.read()\n",
    "\n",
    "    # Статистика символов\n",
    "    char_frequency = calculate_char_frequency(text)\n",
    "    print(\"Статистика:\")\n",
    "    for char, freq in sorted(char_frequency.items(), key=lambda x: -x[1])[:5]:\n",
    "        print(f\"{char} : {freq:.2f}\")\n",
    "    \n",
    "    # Поиск предложений\n",
    "    sentences = find_sentences_with_name(text, \"Андрей\")\n",
    "    print(\"\\nПредложения со словом «Андрей»:\")\n",
    "    for sentence in sentences:\n",
    "        print(sentence)\n",
    "\n",
    "if __name__ == \"__main__\":\n",
    "    main()"
   ]
  },
  {
   "cell_type": "markdown",
   "id": "bfe7495d-4c48-4de7-a97c-da0ada8941e1",
   "metadata": {},
   "source": [
    "_ _ _\n",
    "# Задача 8. Калькулятор\n",
    "_ _ _"
   ]
  },
  {
   "cell_type": "code",
   "execution_count": 14,
   "id": "891fd321-90e6-4e87-91ca-3ac5208fb0dd",
   "metadata": {},
   "outputs": [
    {
     "name": "stdin",
     "output_type": "stream",
     "text": [
      "Введите имя входного файла (например, 'exprs.txt'):  exprs.txt\n"
     ]
    },
    {
     "name": "stdout",
     "output_type": "stream",
     "text": [
      "Введите арифметические выражения (введите 'STOP' для завершения ввода):\n"
     ]
    },
    {
     "name": "stdin",
     "output_type": "stream",
     "text": [
      "Введите выражение:  12+14\n",
      "Введите выражение:  11*8\n",
      "Введите выражение:  13-4\n",
      "Введите выражение:  a-123\n",
      "Введите выражение:  stop\n"
     ]
    },
    {
     "name": "stdout",
     "output_type": "stream",
     "text": [
      "\n",
      "Содержимое файла: results.txt\n",
      "1 26\n",
      "2 88\n",
      "3 9\n",
      "\n",
      "\n",
      "Содержимое файла: errors.txt\n",
      "4 name 'a' is not defined\n",
      "\n",
      "Total Errors: 1\n",
      "Error Lines: [4]\n",
      "\n"
     ]
    }
   ],
   "source": [
    "import os\n",
    "\n",
    "def get_user_expressions(input_file):\n",
    "    print(\"Введите арифметические выражения (введите 'STOP' для завершения ввода):\")\n",
    "    with open(input_file, 'w') as f:\n",
    "        while True:\n",
    "            expression = input(\"Введите выражение: \")\n",
    "            if expression.upper() == 'STOP':\n",
    "                break\n",
    "            f.write(expression + '\\n')\n",
    "\n",
    "def calculate_expression(expression):\n",
    "    try:\n",
    "        result = eval(expression)\n",
    "        return result, None\n",
    "    except Exception as e:\n",
    "        return None, str(e)\n",
    "\n",
    "def process_file(input_file, results_file, errors_file):\n",
    "    if not os.path.exists(input_file) or os.stat(input_file).st_size == 0:\n",
    "        get_user_expressions(input_file)\n",
    "\n",
    "    with open(input_file, 'r') as f_input, \\\n",
    "         open(results_file, 'w') as f_results, \\\n",
    "         open(errors_file, 'w') as f_errors:\n",
    "        \n",
    "        line_num = 0\n",
    "        error_count = 0\n",
    "        error_lines = []\n",
    "\n",
    "        for line in f_input:\n",
    "            line_num += 1\n",
    "            expression = line.strip()\n",
    "            result, error = calculate_expression(expression)\n",
    "            if error:\n",
    "                f_errors.write(f\"{line_num} {error}\\n\")\n",
    "                error_count += 1\n",
    "                error_lines.append(line_num)\n",
    "            else:\n",
    "                f_results.write(f\"{line_num} {result}\\n\")\n",
    "\n",
    "        f_errors.write(f\"\\nTotal Errors: {error_count}\\n\")\n",
    "        f_errors.write(f\"Error Lines: {error_lines}\\n\")\n",
    "\n",
    "    display_file_content(results_file)\n",
    "    display_file_content(errors_file)\n",
    "\n",
    "def display_file_content(file_name):\n",
    "    print(f\"\\nСодержимое файла: {file_name}\")\n",
    "    with open(file_name, 'r') as f:\n",
    "        content = f.read()\n",
    "        print(content)\n",
    "\n",
    "# Запрос имени файла у пользователя\n",
    "input_file = input(\"Введите имя входного файла (например, 'exprs.txt'): \")\n",
    "\n",
    "# Вызов функций\n",
    "get_user_expressions(input_file)\n",
    "process_file(input_file, 'results.txt', 'errors.txt')\n",
    "\n"
   ]
  },
  {
   "cell_type": "code",
   "execution_count": null,
   "id": "6d783552-60f4-4895-9951-183102dbfd0a",
   "metadata": {},
   "outputs": [],
   "source": []
  }
 ],
 "metadata": {
  "kernelspec": {
   "display_name": "Python 3 (ipykernel)",
   "language": "python",
   "name": "python3"
  },
  "language_info": {
   "codemirror_mode": {
    "name": "ipython",
    "version": 3
   },
   "file_extension": ".py",
   "mimetype": "text/x-python",
   "name": "python",
   "nbconvert_exporter": "python",
   "pygments_lexer": "ipython3",
   "version": "3.12.3"
  }
 },
 "nbformat": 4,
 "nbformat_minor": 5
}
