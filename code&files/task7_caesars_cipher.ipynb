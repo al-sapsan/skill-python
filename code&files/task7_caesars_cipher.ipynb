{
 "cells": [
  {
   "cell_type": "markdown",
   "metadata": {},
   "source": [
    "# Задача 7\n",
    "___\n",
    "### Реализуйте «Шифр Цезаря»:\n",
    "* вводим с клавиатуры размер смещения, оно может быть отрицательным и положительным;\n",
    "* вводим с клавиатуры текст сообщения;\n",
    "* на экран выводится шифрованное сообщение и результат расшифровки.\n",
    "### Входные данные\n",
    "```python\n",
    "Введите смещение: 31\n",
    "Введите сообщение: Привет, мир!\n",
    "```\n",
    "### Вывод программы\n",
    "```python\n",
    "Шифрованное сообщение: Ножагр, кжо!\n",
    "Расшифрованное сообщение: Привет, мир!\n",
    "```\n",
    "### Входные данные\n",
    "```python\n",
    "Введите смещение: 9\n",
    "Введите сообщение: Как дела, Петя?\n",
    "```\n",
    "### Вывод программы\n",
    "```python\n",
    "Шифрованное сообщение: Уиу мнфи, Шныз?\n",
    "Расшифрованное сообщение: Как дела, Петя?\n",
    "```\n",
    "___\n",
    "# Решение"
   ]
  },
  {
   "cell_type": "code",
   "execution_count": 1,
   "metadata": {},
   "outputs": [
    {
     "name": "stdout",
     "output_type": "stream",
     "text": [
      "Шифрованное сообщение: Фхнзкч\n",
      "Расшифрованное сообщение: Привет\n"
     ]
    }
   ],
   "source": [
    "def caesar_cipher(text, shift):\n",
    "    def shift_char(c, shift):\n",
    "        if 'А' <= c <= 'Я':\n",
    "            return chr((ord(c) - ord('А') + shift) % 32 + ord('А'))\n",
    "        elif 'а' <= c <= 'я':\n",
    "            return chr((ord(c) - ord('а') + shift) % 32 + ord('а'))\n",
    "        return c\n",
    "\n",
    "    return ''.join(shift_char(c, shift) for c in text)\n",
    "\n",
    "def main():\n",
    "    shift = int(input(\"Введите смещение: \"))\n",
    "    message = input(\"Введите сообщение: \")\n",
    "\n",
    "    encrypted_message = caesar_cipher(message, shift)\n",
    "    decrypted_message = caesar_cipher(encrypted_message, -shift)\n",
    "\n",
    "    print(f\"Шифрованное сообщение: {encrypted_message}\")\n",
    "    print(f\"Расшифрованное сообщение: {decrypted_message}\")\n",
    "\n",
    "if __name__ == \"__main__\":\n",
    "    main()"
   ]
  }
 ],
 "metadata": {
  "kernelspec": {
   "display_name": "Python 3",
   "language": "python",
   "name": "python3"
  },
  "language_info": {
   "codemirror_mode": {
    "name": "ipython",
    "version": 3
   },
   "file_extension": ".py",
   "mimetype": "text/x-python",
   "name": "python",
   "nbconvert_exporter": "python",
   "pygments_lexer": "ipython3",
   "version": "3.11.10"
  }
 },
 "nbformat": 4,
 "nbformat_minor": 2
}
