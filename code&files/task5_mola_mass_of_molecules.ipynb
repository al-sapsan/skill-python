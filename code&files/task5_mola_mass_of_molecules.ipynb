{
 "cells": [
  {
   "cell_type": "markdown",
   "metadata": {},
   "source": [
    "# Задача 5\n",
    "___\n",
    "### Вам дан список молекул и их атомная масса:\n",
    "* H (водород) — 1.008\n",
    "* O (кислород) — 15.999;\n",
    "* S (сера) — 32.066;\n",
    "* Na (натрий) — 22.990;\n",
    "* Cl (хлор) — 35.453;\n",
    "* K (калий) — 39.098. \n",
    "\n",
    "Посчитайте молярную массу молекул, используя методы функционального программирования. Выведите значения в порядке возрастания молярной массы.\n",
    "\n",
    "### Входные данные\n",
    "```python\n",
    "['H2-S-O4', 'H2-O', 'NA-CL', 'H-CL', 'K-CL']\n",
    "```\n",
    "### Вывод программы\n",
    "```python\n",
    "H2-O       18.015\n",
    "H-CL       36.461\n",
    "NA-CL      58.443\n",
    "K-CL       74.551\n",
    "H2-S-O4    98.078\n",
    "```\n",
    "___\n",
    "# Решение"
   ]
  },
  {
   "cell_type": "code",
   "execution_count": 7,
   "metadata": {},
   "outputs": [
    {
     "name": "stdout",
     "output_type": "stream",
     "text": [
      "H2O        18.015\n",
      "HCl        36.461\n",
      "NaCl       58.443\n",
      "KCl        74.551\n",
      "H2SO4      98.078\n"
     ]
    }
   ],
   "source": [
    "import re\n",
    "\n",
    "# Словарь с атомными массами\n",
    "atomic_masses = {\n",
    "    'H': 1.008,\n",
    "    'O': 15.999,\n",
    "    'S': 32.066,\n",
    "    'Na': 22.990,\n",
    "    'Cl': 35.453,\n",
    "    'K': 39.098\n",
    "}\n",
    "\n",
    "# Функция для вычисления молярной массы молекулы\n",
    "def molar_mass(molecule):\n",
    "    elements = re.findall(r'([A-Z][a-z]*)(\\d*)', molecule)\n",
    "    mass = 0\n",
    "    for element, count in elements:\n",
    "        count = int(count) if count else 1\n",
    "        mass += atomic_masses[element] * count\n",
    "    return mass\n",
    "\n",
    "# Входные данные\n",
    "molecules = ['H2-S-O4', 'H2-O', 'Na-Cl', 'H-Cl', 'K-Cl']\n",
    "\n",
    "# Преобразование молекул в правильный формат\n",
    "molecules = [molecule.replace('-', '') for molecule in molecules]\n",
    "\n",
    "# Вычисление молярных масс и сортировка\n",
    "sorted_molecules = sorted(molecules, key=molar_mass)\n",
    "\n",
    "# Вывод результатов\n",
    "for molecule in sorted_molecules:\n",
    "    print(f\"{molecule:8} {molar_mass(molecule):8.3f}\")"
   ]
  }
 ],
 "metadata": {
  "kernelspec": {
   "display_name": "Python 3",
   "language": "python",
   "name": "python3"
  },
  "language_info": {
   "codemirror_mode": {
    "name": "ipython",
    "version": 3
   },
   "file_extension": ".py",
   "mimetype": "text/x-python",
   "name": "python",
   "nbconvert_exporter": "python",
   "pygments_lexer": "ipython3",
   "version": "3.11.10"
  }
 },
 "nbformat": 4,
 "nbformat_minor": 2
}
