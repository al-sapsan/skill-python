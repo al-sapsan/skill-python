{
 "cells": [
  {
   "cell_type": "markdown",
   "id": "b5c5cee7-cbd0-444d-adf3-3ad63f70b9f1",
   "metadata": {},
   "source": [
    "# Задача 4. Решение треугольника"
   ]
  },
  {
   "cell_type": "markdown",
   "id": "87ef8eee-b41e-4a19-b90a-0087aee2765f",
   "metadata": {},
   "source": [
    "\n",
    "## Вариант 1: Прямолинейный подход с использованием теоремы косинусов и формулы Герона\n",
    "\n",
    "### Алгоритм:\n",
    "1. Проверка существования треугольника с использованием неравенства треугольника.\n",
    "2. Вычисление углов с использованием теоремы косинусов.\n",
    "3. Вычисление периметра как суммы сторон.\n",
    "4. Вычисление площади с использованием формулы Герона."
   ]
  },
  {
   "cell_type": "code",
   "execution_count": 4,
   "id": "ebfc23ec-eb78-4e18-9bc4-118f1f1b0aa7",
   "metadata": {},
   "outputs": [
    {
     "name": "stdout",
     "output_type": "stream",
     "text": [
      "{'Угол 1 (напротив стороны 1)': 36.87, 'Угол 2 (напротив стороны 2)': 53.13, 'Угол 3 (напротив стороны 3)': 90.0, 'Периметр треугольника': 12, 'Площадь треугольника': 6.0}\n"
     ]
    }
   ],
   "source": [
    "import math\n",
    "\n",
    "# Проверка существования треугольника с использованием неравенства треугольника\n",
    "def is_triangle_valid(side1, side2, side3):\n",
    "    return side1 + side2 > side3 and side1 + side3 > side2 and side2 + side3 > side1\n",
    "\n",
    "# Вычисление угла напротив стороны 'opposite_side' с использованием теоремы косинусов\n",
    "def calculate_angle(opposite_side, adjacent_side1, adjacent_side2):\n",
    "    # В формуле используются косинусы для вычисления угла в радианах\n",
    "    cos_value = (adjacent_side1**2 + adjacent_side2**2 - opposite_side**2) / (2 * adjacent_side1 * adjacent_side2)\n",
    "    return math.degrees(math.acos(cos_value))\n",
    "\n",
    "# Основная функция для вычисления углов, периметра и площади треугольника\n",
    "def calculate_triangle_properties(side1, side2, side3):\n",
    "    # Проверка, могут ли данные стороны образовать треугольник\n",
    "    if not is_triangle_valid(side1, side2, side3):\n",
    "        return \"Стороны не образуют треугольник\"\n",
    "    \n",
    "    # Вычисление всех углов треугольника\n",
    "    angle1 = calculate_angle(side1, side2, side3)\n",
    "    angle2 = calculate_angle(side2, side1, side3)\n",
    "    angle3 = calculate_angle(side3, side1, side2)\n",
    "    \n",
    "    # Вычисление периметра треугольника\n",
    "    perimeter = side1 + side2 + side3\n",
    "    \n",
    "    # Вычисление площади треугольника с использованием формулы Герона\n",
    "    semi_perimeter = perimeter / 2\n",
    "    area = math.sqrt(semi_perimeter * (semi_perimeter - side1) * (semi_perimeter - side2) * (semi_perimeter - side3))\n",
    "    \n",
    "    # Возвращаем результат в виде словаря с округленными значениями\n",
    "    return {\n",
    "        \"Угол 1 (напротив стороны 1)\": round(angle1, 2),\n",
    "        \"Угол 2 (напротив стороны 2)\": round(angle2, 2),\n",
    "        \"Угол 3 (напротив стороны 3)\": round(angle3, 2),\n",
    "        \"Периметр треугольника\": round(perimeter, 3),\n",
    "        \"Площадь треугольника\": round(area, 3)\n",
    "    }\n",
    "\n",
    "# Пример использования функции\n",
    "side1 = 3\n",
    "side2 = 4\n",
    "side3 = 5\n",
    "\n",
    "triangle_properties = calculate_triangle_properties(side1, side2, side3)\n",
    "print(triangle_properties)\n"
   ]
  },
  {
   "cell_type": "markdown",
   "id": "1517d000-abf3-41ca-a4b7-be4943fee0a9",
   "metadata": {},
   "source": [
    "### Объяснение:\n",
    "- **Проверка треугольника:** Функция `is_triangle_valid` проверяет, могут ли стороны образовать треугольник. Это необходимо для корректного выполнения последующих вычислений.\n",
    "- **Вычисление углов:** Используется функция `calculate_angle`, которая применяет теорему косинусов для нахождения угла напротив стороны.\n",
    "- **Площадь:** Для вычисления площади используется формула Герона, которая проста в использовании и не требует знания углов треугольника.\n",
    "\n",
    "### Преимущества:\n",
    "- Простота и прямолинейность.\n",
    "- Используются базовые математические функции, что делает код легким для понимания.\n",
    "\n",
    "### Недостатки:\n",
    "- Каждый угол вычисляется независимо, хотя результат для двух углов можно использовать для вычисления третьего угла без повторных вычислений.\n"
   ]
  },
  {
   "cell_type": "markdown",
   "id": "d9392bb3-c739-408a-94ab-cb664b3cc0fa",
   "metadata": {},
   "source": [
    "## Вариант 2: Оптимизированный подход с использованием теоремы синусов для вычисления углов\n",
    "\n",
    "### Алгоритм:\n",
    "1. Проверка существования треугольника.\n",
    "2. Вычисление одного угла с помощью теоремы косинусов.\n",
    "3. Вычисление второго угла с помощью теоремы синусов.\n",
    "4. Вычисление третьего угла как остатка до 180 градусов.\n",
    "5. Вычисление периметра и площади."
   ]
  },
  {
   "cell_type": "code",
   "execution_count": 2,
   "id": "301a65f6-35fd-4bea-bf4c-058a29480986",
   "metadata": {},
   "outputs": [
    {
     "name": "stdout",
     "output_type": "stream",
     "text": [
      "{'angle1': 36.87, 'angle2': 53.13, 'angle3': 90.0, 'perimeter': 12, 'area': 6.0}\n"
     ]
    }
   ],
   "source": [
    "import math\n",
    "\n",
    "def is_triangle(a, b, c):\n",
    "    return a + b > c and a + c > b and b + c > a\n",
    "\n",
    "def calculate_triangle_properties(a, b, c):\n",
    "    if not is_triangle(a, b, c):\n",
    "        return \"Стороны не образуют треугольник\"\n",
    "    \n",
    "    # Вычисление одного угла через косинус\n",
    "    angle1 = math.degrees(math.acos((b**2 + c**2 - a**2) / (2 * b * c)))\n",
    "    \n",
    "    # Вычисление второго угла через синус\n",
    "    angle2 = math.degrees(math.asin(b * math.sin(math.radians(angle1)) / a))\n",
    "    \n",
    "    # Третий угол\n",
    "    angle3 = 180 - angle1 - angle2\n",
    "    \n",
    "    # Вычисление периметра\n",
    "    perimeter = a + b + c\n",
    "    \n",
    "    # Вычисление площади по формуле Герона\n",
    "    s = perimeter / 2\n",
    "    area = math.sqrt(s * (s - a) * (s - b) * (s - c))\n",
    "    \n",
    "    return {\n",
    "        \"angle1\": round(angle1, 2),\n",
    "        \"angle2\": round(angle2, 2),\n",
    "        \"angle3\": round(angle3, 2),\n",
    "        \"perimeter\": round(perimeter, 3),\n",
    "        \"area\": round(area, 3)\n",
    "    }\n",
    "\n",
    "# Пример использования\n",
    "a = 3\n",
    "b = 4\n",
    "c = 5\n",
    "\n",
    "result = calculate_triangle_properties(a, b, c)\n",
    "print(result)\n"
   ]
  },
  {
   "cell_type": "markdown",
   "id": "de06a32f-58b2-48e9-9eaf-ace3d57c5b51",
   "metadata": {},
   "source": [
    "### Объяснение:\n",
    "- **Оптимизация:** Второй угол вычисляется через теорему синусов, используя уже известный угол. Третий угол выводится как остаток до 180 градусов, что снижает количество вычислений.\n",
    "  \n",
    "### Преимущества:\n",
    "- Меньше повторных вычислений, более эффективное использование уже известных данных.\n",
    "  \n",
    "### Недостатки:\n",
    "- Зависимость от предыдущих шагов (если угол вычислен с ошибкой, последующие углы тоже будут ошибочными).\n"
   ]
  },
  {
   "cell_type": "markdown",
   "id": "7591959c-eb7e-4e5a-92c7-8cf6ba89d7dd",
   "metadata": {},
   "source": [
    "## Вариант 3: Использование классов для организации кода и вычислений\n",
    "\n",
    "### Алгоритм:\n",
    "1. Определение класса `Triangle`, который инкапсулирует все свойства и методы для вычисления углов, периметра и площади.\n",
    "2. Проверка существования треугольника внутри конструктора.\n",
    "3. Вычисление всех необходимых свойств через методы класса.\n"
   ]
  },
  {
   "cell_type": "code",
   "execution_count": 3,
   "id": "ccbf8055-d72a-4a8f-b3d1-6f5d743cac53",
   "metadata": {},
   "outputs": [
    {
     "name": "stdout",
     "output_type": "stream",
     "text": [
      "{'angle1': 36.87, 'angle2': 53.13, 'angle3': 90.0, 'perimeter': 12, 'area': 6.0}\n"
     ]
    }
   ],
   "source": [
    "import math\n",
    "\n",
    "class Triangle:\n",
    "    def __init__(self, a, b, c):\n",
    "        self.a = a\n",
    "        self.b = b\n",
    "        self.c = c\n",
    "        if not self.is_triangle():\n",
    "            raise ValueError(\"Стороны не образуют треугольник\")\n",
    "        self.angle1 = self.calculate_angle(self.a, self.b, self.c)\n",
    "        self.angle2 = self.calculate_angle(self.b, self.a, self.c)\n",
    "        self.angle3 = self.calculate_angle(self.c, self.a, self.b)\n",
    "        self.perimeter = self.calculate_perimeter()\n",
    "        self.area = self.calculate_area()\n",
    "\n",
    "    def is_triangle(self):\n",
    "        return self.a + self.b > self.c and self.a + self.c > self.b and self.b + self.c > self.a\n",
    "\n",
    "    def calculate_angle(self, a, b, c):\n",
    "        return math.degrees(math.acos((b**2 + c**2 - a**2) / (2 * b * c)))\n",
    "\n",
    "    def calculate_perimeter(self):\n",
    "        return self.a + self.b + self.c\n",
    "\n",
    "    def calculate_area(self):\n",
    "        s = self.perimeter / 2\n",
    "        return math.sqrt(s * (s - self.a) * (s - self.b) * (s - self.c))\n",
    "\n",
    "    def get_properties(self):\n",
    "        return {\n",
    "            \"angle1\": round(self.angle1, 2),\n",
    "            \"angle2\": round(self.angle2, 2),\n",
    "            \"angle3\": round(self.angle3, 2),\n",
    "            \"perimeter\": round(self.perimeter, 3),\n",
    "            \"area\": round(self.area, 3)\n",
    "        }\n",
    "\n",
    "# Пример использования\n",
    "a = 3\n",
    "b = 4\n",
    "c = 5\n",
    "\n",
    "triangle = Triangle(a, b, c)\n",
    "result = triangle.get_properties()\n",
    "print(result)\n"
   ]
  },
  {
   "cell_type": "markdown",
   "id": "ac5d1915-c572-40df-8927-827369e8e15c",
   "metadata": {},
   "source": [
    "### Объяснение:\n",
    "- **ООП:** В этом варианте используется объектно-ориентированный подход, что делает код более модульным и расширяемым. Все вычисления инкапсулированы внутри класса `Triangle`.\n",
    "  \n",
    "### Преимущества:\n",
    "- Код более организован и легко расширяется.\n",
    "- Использование классов позволяет легко добавлять новые свойства и методы для работы с треугольниками.\n",
    "\n",
    "### Недостатки:\n",
    "- Более сложная структура кода, что может быть избыточным для простых задач.\n"
   ]
  },
  {
   "cell_type": "markdown",
   "id": "15f0c796-925b-4a72-9fbe-a1191b1722e5",
   "metadata": {},
   "source": [
    "\n",
    "## Заключение\n",
    "Все три варианта решают задачу нахождения углов, периметра и площади треугольника. Прямолинейный подход (Вариант 1) наиболее прост для понимания, тогда как оптимизированный (Вариант 2) снижает количество вычислений. Вариант с классами (Вариант 3) предоставляет более организованную структуру, полезную для расширяемости кода. Выбор зависит от требований кода: если важна простота, подойдет Вариант 1, для более сложных задач лучше использовать Вариант 3."
   ]
  },
  {
   "cell_type": "code",
   "execution_count": null,
   "id": "f001a1f0-bb6f-470b-bda8-9baca035652e",
   "metadata": {},
   "outputs": [],
   "source": []
  }
 ],
 "metadata": {
  "kernelspec": {
   "display_name": "Python 3 (ipykernel)",
   "language": "python",
   "name": "python3"
  },
  "language_info": {
   "codemirror_mode": {
    "name": "ipython",
    "version": 3
   },
   "file_extension": ".py",
   "mimetype": "text/x-python",
   "name": "python",
   "nbconvert_exporter": "python",
   "pygments_lexer": "ipython3",
   "version": "3.11.7"
  }
 },
 "nbformat": 4,
 "nbformat_minor": 5
}
