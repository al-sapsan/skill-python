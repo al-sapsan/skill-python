{
 "cells": [
  {
   "cell_type": "markdown",
   "metadata": {},
   "source": [
    "# Задача 3\n",
    "___\n",
    "Напишите функции-генераторы, которые выводят элементы разложения sin, cos и exp в ряды Тейлора. После, используя функциональный подход, найдите сумму членов ряда и сравните её со значением вычисления функции из модуля math. Выведите разницу в экспоненциальном представлении.\n",
    "### Входные данные\n",
    "```bash\n",
    "Введите значение угла в радианах: 1\n",
    "Введите количество элементов ряда: 5\n",
    "```\n",
    "### Вывод программы\n",
    "```python\n",
    "math.sin(x) − sin(x) = -2.5e-8\n",
    "math.cos(x) − cos(x) = -2.7e-7\n",
    "math.exp(x) − exp(x) = 9.9e-3\n",
    "```\n",
    "___\n",
    "# Решение"
   ]
  },
  {
   "cell_type": "code",
   "execution_count": 1,
   "metadata": {},
   "outputs": [
    {
     "name": "stdout",
     "output_type": "stream",
     "text": [
      "math.sin(x) − sin(x) = -2.5e-08\n",
      "math.cos(x) − cos(x) = -2.7e-07\n",
      "math.exp(x) − exp(x) = 9.9e-03\n"
     ]
    }
   ],
   "source": [
    "import math\n",
    "\n",
    "def taylor_sin(x, n):\n",
    "    term = x\n",
    "    for i in range(1, n + 1):\n",
    "        yield term\n",
    "        term *= -x**2 / ((2 * i) * (2 * i + 1))\n",
    "\n",
    "def taylor_cos(x, n):\n",
    "    term = 1\n",
    "    for i in range(1, n + 1):\n",
    "        yield term\n",
    "        term *= -x**2 / ((2 * i - 1) * (2 * i))\n",
    "\n",
    "def taylor_exp(x, n):\n",
    "    term = 1\n",
    "    for i in range(1, n + 1):\n",
    "        yield term\n",
    "        term *= x / i\n",
    "\n",
    "def sum_series(generator, x, n):\n",
    "    return sum(generator(x, n))\n",
    "\n",
    "def main():\n",
    "    x = float(input(\"Введите значение угла в радианах: \"))\n",
    "    n = int(input(\"Введите количество элементов ряда: \"))\n",
    "\n",
    "    sin_approx = sum_series(taylor_sin, x, n)\n",
    "    cos_approx = sum_series(taylor_cos, x, n)\n",
    "    exp_approx = sum_series(taylor_exp, x, n)\n",
    "\n",
    "    sin_diff = math.sin(x) - sin_approx\n",
    "    cos_diff = math.cos(x) - cos_approx\n",
    "    exp_diff = math.exp(x) - exp_approx\n",
    "\n",
    "    print(f\"math.sin(x) − sin(x) = {sin_diff:.1e}\")\n",
    "    print(f\"math.cos(x) − cos(x) = {cos_diff:.1e}\")\n",
    "    print(f\"math.exp(x) − exp(x) = {exp_diff:.1e}\")\n",
    "\n",
    "if __name__ == \"__main__\":\n",
    "    main()"
   ]
  }
 ],
 "metadata": {
  "kernelspec": {
   "display_name": "Python 3",
   "language": "python",
   "name": "python3"
  },
  "language_info": {
   "name": "python",
   "version": "3.11.10"
  }
 },
 "nbformat": 4,
 "nbformat_minor": 2
}
