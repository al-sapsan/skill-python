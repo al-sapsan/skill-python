{
 "cells": [
  {
   "cell_type": "markdown",
   "id": "6ec69bd4-56b5-45a4-bb6c-a0bd21af22bd",
   "metadata": {},
   "source": [
    "# Задача 2\n",
    "___\n",
    "Напишите функцию-генератор, которая возвращает очередной элемент, содержащий числа Фибоначчи в количестве, переданном в функцию. Если число не передано, то мы возвращаем бесконечную последовательность. Ограничьте искусственно вывод 100 элементов.\n",
    "\n",
    "```python\n",
    "def get_fib_numbers(qty): \n",
    "    pass  \n",
    "\n",
    "fib_numbers = list(get_fib_numbers(10)) \n",
    "assert len(fib_numbers) == 10 \n",
    "print(fib_numbers)  \n",
    "\n",
    "[0, 1, 1, 2, 3, 5, 8, 13, 21, 34]\n",
    "```\n",
    "___\n",
    "# Решение"
   ]
  },
  {
   "cell_type": "code",
   "execution_count": 1,
   "id": "3d0aaa98-f880-4ebb-84ab-593af8f2ad74",
   "metadata": {},
   "outputs": [],
   "source": [
    "def get_fib_numbers(qty=None):\n",
    "    a, b = 0, 1\n",
    "    count = 0\n",
    "    while qty is None or count < qty:\n",
    "        yield a\n",
    "        a, b = b, a + b\n",
    "        count += 1\n",
    "        if count >= 100:  # Искусственное ограничение на 100 элементов\n",
    "            break\n",
    "\n"
   ]
  },
  {
   "cell_type": "code",
   "execution_count": 2,
   "id": "3681fe15-3c10-4680-befb-be01bdcde8dd",
   "metadata": {},
   "outputs": [
    {
     "name": "stdout",
     "output_type": "stream",
     "text": [
      "[0, 1, 1, 2, 3, 5, 8, 13, 21, 34]\n"
     ]
    }
   ],
   "source": [
    "# Пример использования:\n",
    "fib_numbers = list(get_fib_numbers(10))\n",
    "assert len(fib_numbers) == 10\n",
    "print(fib_numbers)  # Output: [0, 1, 1, 2, 3, 5, 8, 13, 21, 34]\n"
   ]
  }
 ],
 "metadata": {
  "kernelspec": {
   "display_name": "Python 3",
   "language": "python",
   "name": "python3"
  },
  "language_info": {
   "codemirror_mode": {
    "name": "ipython",
    "version": 3
   },
   "file_extension": ".py",
   "mimetype": "text/x-python",
   "name": "python",
   "nbconvert_exporter": "python",
   "pygments_lexer": "ipython3",
   "version": "3.11.10"
  }
 },
 "nbformat": 4,
 "nbformat_minor": 5
}
